{
 "cells": [
  {
   "cell_type": "code",
   "execution_count": 1,
   "id": "6a547c45",
   "metadata": {},
   "outputs": [],
   "source": [
    "import numpy as np\n",
    "import sympy as sy"
   ]
  },
  {
   "cell_type": "code",
   "execution_count": 35,
   "id": "0898061e",
   "metadata": {},
   "outputs": [
    {
     "data": {
      "text/latex": [
       "$\\displaystyle f{\\left(x \\right)}$"
      ],
      "text/plain": [
       "f(x)"
      ]
     },
     "execution_count": 35,
     "metadata": {},
     "output_type": "execute_result"
    }
   ],
   "source": [
    "x,y=sy.symbols('x,y')\n",
    "f=sy.Function('f')(x)\n",
    "f"
   ]
  },
  {
   "cell_type": "code",
   "execution_count": 4,
   "id": "b3d43e37",
   "metadata": {},
   "outputs": [
    {
     "data": {
      "text/latex": [
       "$\\displaystyle \\frac{d}{d x} f{\\left(x \\right)}$"
      ],
      "text/plain": [
       "Derivative(f(x), x)"
      ]
     },
     "execution_count": 4,
     "metadata": {},
     "output_type": "execute_result"
    }
   ],
   "source": [
    "sy.diff(f,x)"
   ]
  },
  {
   "cell_type": "code",
   "execution_count": 5,
   "id": "a297238e",
   "metadata": {},
   "outputs": [
    {
     "data": {
      "text/latex": [
       "$\\displaystyle g{\\left(x,y \\right)}$"
      ],
      "text/plain": [
       "g(x, y)"
      ]
     },
     "execution_count": 5,
     "metadata": {},
     "output_type": "execute_result"
    }
   ],
   "source": [
    "g=sy.Function('g')(x,y)\n",
    "g"
   ]
  },
  {
   "cell_type": "code",
   "execution_count": 7,
   "id": "15f8e158",
   "metadata": {},
   "outputs": [
    {
     "data": {
      "text/latex": [
       "$\\displaystyle \\frac{\\partial}{\\partial y} g{\\left(x,y \\right)}$"
      ],
      "text/plain": [
       "Derivative(g(x, y), y)"
      ]
     },
     "execution_count": 7,
     "metadata": {},
     "output_type": "execute_result"
    }
   ],
   "source": [
    "sy.diff(g,y)"
   ]
  },
  {
   "cell_type": "code",
   "execution_count": 8,
   "id": "39ded4bb",
   "metadata": {},
   "outputs": [
    {
     "data": {
      "text/latex": [
       "$\\displaystyle \\frac{\\partial^{7}}{\\partial y^{4}\\partial x^{3}} g{\\left(x,y \\right)}$"
      ],
      "text/plain": [
       "Derivative(g(x, y), (x, 3), (y, 4))"
      ]
     },
     "execution_count": 8,
     "metadata": {},
     "output_type": "execute_result"
    }
   ],
   "source": [
    "sy.diff(g,x,3,y,4)"
   ]
  },
  {
   "cell_type": "code",
   "execution_count": 10,
   "id": "8fb28c19",
   "metadata": {},
   "outputs": [
    {
     "data": {
      "text/latex": [
       "$\\displaystyle x^{2} + x + e^{x^{2}} - 1$"
      ],
      "text/plain": [
       "x**2 + x + exp(x**2) - 1"
      ]
     },
     "execution_count": 10,
     "metadata": {},
     "output_type": "execute_result"
    }
   ],
   "source": [
    "f=x**2+sy.exp(x**2)+x-1\n",
    "f"
   ]
  },
  {
   "cell_type": "code",
   "execution_count": 12,
   "id": "c673ac79",
   "metadata": {},
   "outputs": [
    {
     "data": {
      "text/latex": [
       "$\\displaystyle 2 x e^{x^{2}} + 2 x + 1$"
      ],
      "text/plain": [
       "2*x*exp(x**2) + 2*x + 1"
      ]
     },
     "execution_count": 12,
     "metadata": {},
     "output_type": "execute_result"
    }
   ],
   "source": [
    "sy.diff(f,x)"
   ]
  },
  {
   "cell_type": "code",
   "execution_count": 34,
   "id": "de742301",
   "metadata": {},
   "outputs": [
    {
     "data": {
      "text/latex": [
       "$\\displaystyle 2 x^{3} + 4 x^{2} + 4 x - 12$"
      ],
      "text/plain": [
       "2*x**3 + 4*x**2 + 4*x - 12"
      ]
     },
     "execution_count": 34,
     "metadata": {},
     "output_type": "execute_result"
    }
   ],
   "source": [
    "r=2*x**3+4*x**2+4*x-12\n",
    "r"
   ]
  },
  {
   "cell_type": "code",
   "execution_count": 26,
   "id": "a3ddea3a",
   "metadata": {},
   "outputs": [
    {
     "data": {
      "text/latex": [
       "$\\displaystyle 6 x^{2} + 8 x + 4$"
      ],
      "text/plain": [
       "6*x**2 + 8*x + 4"
      ]
     },
     "execution_count": 26,
     "metadata": {},
     "output_type": "execute_result"
    }
   ],
   "source": [
    "sy.diff(r,x)"
   ]
  },
  {
   "cell_type": "code",
   "execution_count": 27,
   "id": "8652e99a",
   "metadata": {},
   "outputs": [
    {
     "data": {
      "text/latex": [
       "$\\displaystyle 4 x \\left(2 x^{2} + 3\\right) e^{x^{2}}$"
      ],
      "text/plain": [
       "4*x*(2*x**2 + 3)*exp(x**2)"
      ]
     },
     "execution_count": 27,
     "metadata": {},
     "output_type": "execute_result"
    }
   ],
   "source": [
    "sy.diff(f,x,3)"
   ]
  },
  {
   "cell_type": "code",
   "execution_count": 28,
   "id": "ec93aeae",
   "metadata": {},
   "outputs": [
    {
     "data": {
      "text/latex": [
       "$\\displaystyle 4 \\cdot \\left(3 x + 2\\right)$"
      ],
      "text/plain": [
       "4*(3*x + 2)"
      ]
     },
     "execution_count": 28,
     "metadata": {},
     "output_type": "execute_result"
    }
   ],
   "source": [
    "sy.diff(r,x,2)"
   ]
  },
  {
   "cell_type": "code",
   "execution_count": 52,
   "id": "96525f5c",
   "metadata": {},
   "outputs": [
    {
     "data": {
      "text/latex": [
       "$\\displaystyle x^{8} + 4 x y + 6 e^{3 y^{5}}$"
      ],
      "text/plain": [
       "x**8 + 4*x*y + 6*exp(3*y**5)"
      ]
     },
     "execution_count": 52,
     "metadata": {},
     "output_type": "execute_result"
    }
   ],
   "source": [
    "h=x**8+4*x*y+6*sy.exp(y**5)**3\n",
    "h"
   ]
  },
  {
   "cell_type": "code",
   "execution_count": 53,
   "id": "12c0ab24",
   "metadata": {},
   "outputs": [
    {
     "data": {
      "text/latex": [
       "$\\displaystyle 8 x^{7} + 4 y$"
      ],
      "text/plain": [
       "8*x**7 + 4*y"
      ]
     },
     "execution_count": 53,
     "metadata": {},
     "output_type": "execute_result"
    }
   ],
   "source": [
    "sy.diff(h,x)"
   ]
  },
  {
   "cell_type": "code",
   "execution_count": 55,
   "id": "243551bf",
   "metadata": {},
   "outputs": [
    {
     "data": {
      "text/latex": [
       "$\\displaystyle 0$"
      ],
      "text/plain": [
       "0"
      ]
     },
     "execution_count": 55,
     "metadata": {},
     "output_type": "execute_result"
    }
   ],
   "source": [
    "sy.diff(h,x,3,y,2)"
   ]
  },
  {
   "cell_type": "code",
   "execution_count": 38,
   "id": "e792bc57",
   "metadata": {},
   "outputs": [
    {
     "data": {
      "text/latex": [
       "$\\displaystyle \\sin{\\left(x \\right)}$"
      ],
      "text/plain": [
       "sin(x)"
      ]
     },
     "execution_count": 38,
     "metadata": {},
     "output_type": "execute_result"
    }
   ],
   "source": [
    "f=sy.sin(x)\n",
    "f"
   ]
  },
  {
   "cell_type": "code",
   "execution_count": 40,
   "id": "77e7ebd6",
   "metadata": {},
   "outputs": [
    {
     "data": {
      "text/latex": [
       "$\\displaystyle \\frac{d}{d x} \\sin{\\left(x \\right)}$"
      ],
      "text/plain": [
       "Derivative(sin(x), x)"
      ]
     },
     "execution_count": 40,
     "metadata": {},
     "output_type": "execute_result"
    }
   ],
   "source": [
    "sy.Derivative(f,x)"
   ]
  },
  {
   "cell_type": "code",
   "execution_count": 41,
   "id": "03b8cf5b",
   "metadata": {},
   "outputs": [
    {
     "data": {
      "text/latex": [
       "$\\displaystyle \\frac{d^{5}}{d x^{5}} \\sin{\\left(x \\right)}$"
      ],
      "text/plain": [
       "Derivative(sin(x), (x, 5))"
      ]
     },
     "execution_count": 41,
     "metadata": {},
     "output_type": "execute_result"
    }
   ],
   "source": [
    "sy.Derivative(f,x,5)"
   ]
  },
  {
   "cell_type": "code",
   "execution_count": 58,
   "id": "1be48f1a",
   "metadata": {},
   "outputs": [
    {
     "data": {
      "text/latex": [
       "$\\displaystyle \\frac{d^{2}}{d x^{2}} \\sin{\\left(x \\right)}$"
      ],
      "text/plain": [
       "Derivative(sin(x), (x, 2))"
      ]
     },
     "execution_count": 58,
     "metadata": {},
     "output_type": "execute_result"
    }
   ],
   "source": [
    "g=sy.Derivative(f,x,2)\n",
    "g"
   ]
  },
  {
   "cell_type": "code",
   "execution_count": 59,
   "id": "5d6ba82c",
   "metadata": {},
   "outputs": [
    {
     "data": {
      "text/latex": [
       "$\\displaystyle - \\sin{\\left(x \\right)}$"
      ],
      "text/plain": [
       "-sin(x)"
      ]
     },
     "execution_count": 59,
     "metadata": {},
     "output_type": "execute_result"
    }
   ],
   "source": [
    "g.doit()"
   ]
  },
  {
   "cell_type": "code",
   "execution_count": 60,
   "id": "afe621fe",
   "metadata": {},
   "outputs": [
    {
     "data": {
      "text/latex": [
       "$\\displaystyle x^{2} + 2 x y + \\log{\\left(x + y \\right)}$"
      ],
      "text/plain": [
       "x**2 + 2*x*y + log(x + y)"
      ]
     },
     "execution_count": 60,
     "metadata": {},
     "output_type": "execute_result"
    }
   ],
   "source": [
    "f=x**2+2*x*y+sy.log(x+y)\n",
    "f"
   ]
  },
  {
   "cell_type": "code",
   "execution_count": 61,
   "id": "ad71f219",
   "metadata": {},
   "outputs": [
    {
     "data": {
      "text/latex": [
       "$\\displaystyle \\frac{\\partial^{2}}{\\partial x^{2}} \\left(x^{2} + 2 x y + \\log{\\left(x + y \\right)}\\right)$"
      ],
      "text/plain": [
       "Derivative(x**2 + 2*x*y + log(x + y), (x, 2))"
      ]
     },
     "execution_count": 61,
     "metadata": {},
     "output_type": "execute_result"
    }
   ],
   "source": [
    "g=sy.Derivative(f,x,2)\n",
    "g"
   ]
  },
  {
   "cell_type": "code",
   "execution_count": 62,
   "id": "9bf53aaa",
   "metadata": {},
   "outputs": [
    {
     "data": {
      "text/latex": [
       "$\\displaystyle 2 - \\frac{1}{\\left(x + y\\right)^{2}}$"
      ],
      "text/plain": [
       "2 - 1/(x + y)**2"
      ]
     },
     "execution_count": 62,
     "metadata": {},
     "output_type": "execute_result"
    }
   ],
   "source": [
    "g.doit()"
   ]
  },
  {
   "cell_type": "code",
   "execution_count": 63,
   "id": "752995ee",
   "metadata": {},
   "outputs": [
    {
     "data": {
      "text/latex": [
       "$\\displaystyle \\frac{\\partial^{5}}{\\partial y^{3}\\partial x^{2}} \\left(x^{2} + 2 x y + \\log{\\left(x + y \\right)}\\right)$"
      ],
      "text/plain": [
       "Derivative(x**2 + 2*x*y + log(x + y), (x, 2), (y, 3))"
      ]
     },
     "execution_count": 63,
     "metadata": {},
     "output_type": "execute_result"
    }
   ],
   "source": [
    "g=sy.Derivative(f,x,2,y,3)\n",
    "g"
   ]
  },
  {
   "cell_type": "code",
   "execution_count": 64,
   "id": "38aeea27",
   "metadata": {},
   "outputs": [
    {
     "data": {
      "text/latex": [
       "$\\displaystyle \\frac{24}{\\left(x + y\\right)^{5}}$"
      ],
      "text/plain": [
       "24/(x + y)**5"
      ]
     },
     "execution_count": 64,
     "metadata": {},
     "output_type": "execute_result"
    }
   ],
   "source": [
    "g.doit()"
   ]
  },
  {
   "cell_type": "code",
   "execution_count": null,
   "id": "9b4c3527",
   "metadata": {},
   "outputs": [],
   "source": []
  }
 ],
 "metadata": {
  "kernelspec": {
   "display_name": "Python 3 (ipykernel)",
   "language": "python",
   "name": "python3"
  },
  "language_info": {
   "codemirror_mode": {
    "name": "ipython",
    "version": 3
   },
   "file_extension": ".py",
   "mimetype": "text/x-python",
   "name": "python",
   "nbconvert_exporter": "python",
   "pygments_lexer": "ipython3",
   "version": "3.10.9"
  }
 },
 "nbformat": 4,
 "nbformat_minor": 5
}
