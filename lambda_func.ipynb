{
 "cells": [
  {
   "cell_type": "code",
   "execution_count": 2,
   "id": "d6181c94",
   "metadata": {},
   "outputs": [],
   "source": [
    "import numpy as np\n",
    "import sympy as sy"
   ]
  },
  {
   "cell_type": "code",
   "execution_count": 3,
   "id": "3f3e0833",
   "metadata": {},
   "outputs": [
    {
     "data": {
      "text/latex": [
       "$\\displaystyle n$"
      ],
      "text/plain": [
       "n"
      ]
     },
     "execution_count": 3,
     "metadata": {},
     "output_type": "execute_result"
    }
   ],
   "source": [
    "n=sy.Symbol('n')\n",
    "n"
   ]
  },
  {
   "cell_type": "code",
   "execution_count": 6,
   "id": "d0a491fe",
   "metadata": {},
   "outputs": [
    {
     "data": {
      "text/latex": [
       "$\\displaystyle 13$"
      ],
      "text/plain": [
       "13"
      ]
     },
     "execution_count": 6,
     "metadata": {},
     "output_type": "execute_result"
    }
   ],
   "source": [
    "n=sy.Integer(13)\n",
    "n"
   ]
  },
  {
   "cell_type": "code",
   "execution_count": 7,
   "id": "93d01897",
   "metadata": {},
   "outputs": [
    {
     "data": {
      "text/latex": [
       "$\\displaystyle 13$"
      ],
      "text/plain": [
       "13"
      ]
     },
     "execution_count": 7,
     "metadata": {},
     "output_type": "execute_result"
    }
   ],
   "source": [
    "n**3\n",
    "n"
   ]
  },
  {
   "cell_type": "code",
   "execution_count": 8,
   "id": "57401fba",
   "metadata": {},
   "outputs": [
    {
     "data": {
      "text/latex": [
       "$\\displaystyle 13$"
      ],
      "text/plain": [
       "13"
      ]
     },
     "execution_count": 8,
     "metadata": {},
     "output_type": "execute_result"
    }
   ],
   "source": [
    "n**8569\n",
    "n"
   ]
  },
  {
   "cell_type": "code",
   "execution_count": 9,
   "id": "7789ab90",
   "metadata": {},
   "outputs": [
    {
     "data": {
      "text/plain": [
       "1066330916242710153046648453584317087969550865413432696864364768773641931986035255537347076798621003277221411375557533871480709552964727890474993213588252256668568235893189065142394832554926347165833320194972243691851952603197898965723636285677717729806175601495846433063176979755790779707660203690269811826895579411424999295769114015389197346533397165230181406015484564013523652039761071422199166740606491472369721886984420178579921117452441973135130921026038329706483262764246858751101237075067486684030004724300798156948980211945043224513013013534626975036459135840544500368120732110340145430221501125650431463595500780149248738827271056060816968592211745981826309797260262111610769319283798091729885239018484547745520050850818438820923647184115403504744760726489766132335866415355279987426643660880961048076631672000867119822742505203179050209119204817085371462301137529757692906285094750647198039724943765858135587990903990805716021303924126127791557863966218861376569474353908271839872844350101999611633647856946774262109293763378944058776393281149695977635302612640908122772586140266948811383925636122688591744447888423294251426530334184092478203205156563945736737455904494287324544553730259778785785032422175758186687082809050440947210923271470946470345784826858098148994589354767403784629935802981068934495537849638241998139248741650568169787631889423639136851188527784170485653867460671662999798805672537083728852764009616876332803856815932711742662940399012164434290069197393113588033798376572077612229350945409089443653769162037065034254212982123746120814577945801400433242283695002591401750018422867422567913179335435964192760617030355722781605088275798199185527084501513073241877982210320013726982200416679512542290154640273740780569365296598771304420453177086361433006337314330573607764605350734153764078166077059846359228995142587"
      ]
     },
     "execution_count": 9,
     "metadata": {},
     "output_type": "execute_result"
    }
   ],
   "source": [
    "3**3867"
   ]
  },
  {
   "cell_type": "code",
   "execution_count": 10,
   "id": "c215788a",
   "metadata": {},
   "outputs": [
    {
     "data": {
      "text/latex": [
       "$\\displaystyle 3.1416$"
      ],
      "text/plain": [
       "3.14160000000000"
      ]
     },
     "execution_count": 10,
     "metadata": {},
     "output_type": "execute_result"
    }
   ],
   "source": [
    "p=sy.Symbol('p')\n",
    "p=sy.Float(3.1416)\n",
    "p"
   ]
  },
  {
   "cell_type": "code",
   "execution_count": 12,
   "id": "b6847d7f",
   "metadata": {},
   "outputs": [
    {
     "data": {
      "text/latex": [
       "$\\displaystyle \\frac{3}{5}$"
      ],
      "text/plain": [
       "3/5"
      ]
     },
     "execution_count": 12,
     "metadata": {},
     "output_type": "execute_result"
    }
   ],
   "source": [
    "r=sy.Rational(3,5)\n",
    "r"
   ]
  },
  {
   "cell_type": "code",
   "execution_count": 14,
   "id": "4a43c9e4",
   "metadata": {},
   "outputs": [
    {
     "data": {
      "text/latex": [
       "$\\displaystyle \\left( x \\mapsto x^{2} \\right)$"
      ],
      "text/plain": [
       "Lambda(x, x**2)"
      ]
     },
     "execution_count": 14,
     "metadata": {},
     "output_type": "execute_result"
    }
   ],
   "source": [
    "x=sy.Symbol('x')\n",
    "f=sy.Lambda(x,x**2)\n",
    "f"
   ]
  },
  {
   "cell_type": "code",
   "execution_count": 15,
   "id": "4abe3ef4",
   "metadata": {},
   "outputs": [
    {
     "data": {
      "text/latex": [
       "$\\displaystyle 4$"
      ],
      "text/plain": [
       "4"
      ]
     },
     "execution_count": 15,
     "metadata": {},
     "output_type": "execute_result"
    }
   ],
   "source": [
    "f(2)"
   ]
  },
  {
   "cell_type": "code",
   "execution_count": 16,
   "id": "c3b2dc5b",
   "metadata": {},
   "outputs": [
    {
     "data": {
      "text/latex": [
       "$\\displaystyle 64$"
      ],
      "text/plain": [
       "64"
      ]
     },
     "execution_count": 16,
     "metadata": {},
     "output_type": "execute_result"
    }
   ],
   "source": [
    "f(8)"
   ]
  },
  {
   "cell_type": "code",
   "execution_count": null,
   "id": "439c0670",
   "metadata": {},
   "outputs": [],
   "source": []
  }
 ],
 "metadata": {
  "kernelspec": {
   "display_name": "Python 3 (ipykernel)",
   "language": "python",
   "name": "python3"
  },
  "language_info": {
   "codemirror_mode": {
    "name": "ipython",
    "version": 3
   },
   "file_extension": ".py",
   "mimetype": "text/x-python",
   "name": "python",
   "nbconvert_exporter": "python",
   "pygments_lexer": "ipython3",
   "version": "3.10.9"
  }
 },
 "nbformat": 4,
 "nbformat_minor": 5
}
