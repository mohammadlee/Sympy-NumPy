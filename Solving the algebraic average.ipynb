{
 "cells": [
  {
   "cell_type": "code",
   "execution_count": 1,
   "id": "e92debd2",
   "metadata": {},
   "outputs": [],
   "source": [
    "import numpy as np\n",
    "import sympy as sy"
   ]
  },
  {
   "cell_type": "code",
   "execution_count": 10,
   "id": "f9ab89df",
   "metadata": {},
   "outputs": [
    {
     "name": "stdout",
     "output_type": "stream",
     "text": [
      "0.682626670619523\n",
      "19\n"
     ]
    }
   ],
   "source": [
    "x=sy.Symbol('x')\n",
    "g=sy.Lambda(x,(1-x)**(1/3))\n",
    "x0=0.5\n",
    "x1=g(x0)\n",
    "eps=0.001\n",
    "n=sy.Symbol('n')\n",
    "n=sy.Integer(1)\n",
    "\n",
    "while np.abs(x1-x0)>eps:\n",
    "    x0=x1\n",
    "    x1=g(x0)\n",
    "    n+=1\n",
    "if np.abs(x1-x0)<eps:\n",
    "    print(x1)\n",
    "    print(n)"
   ]
  },
  {
   "cell_type": "markdown",
   "id": "3c3937c9",
   "metadata": {},
   "source": [
    "# Newton_way"
   ]
  },
  {
   "cell_type": "code",
   "execution_count": 12,
   "id": "a8a474c2",
   "metadata": {},
   "outputs": [
    {
     "name": "stdout",
     "output_type": "stream",
     "text": [
      "0.682000517177671\n",
      "17\n"
     ]
    }
   ],
   "source": [
    "x=sy.Symbol('x')\n",
    "f=sy.Lambda(x,x**3+2*x-1)\n",
    "fp=sy.Lambda(x,3*x**2+1)\n",
    "x0=0.5\n",
    "x1=x1-f(x0)/fp(x0)\n",
    "eps=0.001\n",
    "n=sy.Symbol('n')\n",
    "n=sy.Integer(1)\n",
    "\n",
    "while np.abs(x1-x0)>eps:\n",
    "    x0=x1\n",
    "    x1=g(x0)\n",
    "    n+=1\n",
    "if np.abs(x1-x0)<eps:\n",
    "    print(x1)\n",
    "    print(n)"
   ]
  },
  {
   "cell_type": "code",
   "execution_count": null,
   "id": "371befa5",
   "metadata": {},
   "outputs": [],
   "source": []
  }
 ],
 "metadata": {
  "kernelspec": {
   "display_name": "Python 3 (ipykernel)",
   "language": "python",
   "name": "python3"
  },
  "language_info": {
   "codemirror_mode": {
    "name": "ipython",
    "version": 3
   },
   "file_extension": ".py",
   "mimetype": "text/x-python",
   "name": "python",
   "nbconvert_exporter": "python",
   "pygments_lexer": "ipython3",
   "version": "3.10.9"
  }
 },
 "nbformat": 4,
 "nbformat_minor": 5
}
