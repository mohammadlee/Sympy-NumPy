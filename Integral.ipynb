{
 "cells": [
  {
   "cell_type": "code",
   "execution_count": 1,
   "id": "3825de4c",
   "metadata": {},
   "outputs": [],
   "source": [
    "import numpy as np\n",
    "import sympy as sy"
   ]
  },
  {
   "cell_type": "code",
   "execution_count": 2,
   "id": "403ba7c1",
   "metadata": {},
   "outputs": [],
   "source": [
    "x,y=sy.symbols(\"x,y\")"
   ]
  },
  {
   "cell_type": "code",
   "execution_count": 5,
   "id": "35822b94",
   "metadata": {},
   "outputs": [
    {
     "data": {
      "text/latex": [
       "$\\displaystyle f{\\left(x \\right)}$"
      ],
      "text/plain": [
       "f(x)"
      ]
     },
     "execution_count": 5,
     "metadata": {},
     "output_type": "execute_result"
    }
   ],
   "source": [
    "f=sy.Function('f')(x)\n",
    "f"
   ]
  },
  {
   "cell_type": "code",
   "execution_count": 6,
   "id": "702c3de4",
   "metadata": {},
   "outputs": [
    {
     "data": {
      "text/latex": [
       "$\\displaystyle \\int f{\\left(x \\right)}\\, dx$"
      ],
      "text/plain": [
       "Integral(f(x), x)"
      ]
     },
     "execution_count": 6,
     "metadata": {},
     "output_type": "execute_result"
    }
   ],
   "source": [
    "sy.integrate(f)"
   ]
  },
  {
   "cell_type": "code",
   "execution_count": 7,
   "id": "0764c256",
   "metadata": {},
   "outputs": [
    {
     "data": {
      "text/latex": [
       "$\\displaystyle \\int\\limits_{0}^{1} f{\\left(x \\right)}\\, dx$"
      ],
      "text/plain": [
       "Integral(f(x), (x, 0, 1))"
      ]
     },
     "execution_count": 7,
     "metadata": {},
     "output_type": "execute_result"
    }
   ],
   "source": [
    "sy.integrate(f,(x,0,1))"
   ]
  },
  {
   "cell_type": "code",
   "execution_count": 8,
   "id": "1ea90605",
   "metadata": {},
   "outputs": [
    {
     "data": {
      "text/latex": [
       "$\\displaystyle g{\\left(x,y \\right)}$"
      ],
      "text/plain": [
       "g(x, y)"
      ]
     },
     "execution_count": 8,
     "metadata": {},
     "output_type": "execute_result"
    }
   ],
   "source": [
    "g=sy.Function('g')(x,y)\n",
    "g"
   ]
  },
  {
   "cell_type": "code",
   "execution_count": 11,
   "id": "d32d86c6",
   "metadata": {},
   "outputs": [
    {
     "data": {
      "text/latex": [
       "$\\displaystyle \\iint g{\\left(x,y \\right)}\\, dx\\, dy$"
      ],
      "text/plain": [
       "Integral(g(x, y), x, y)"
      ]
     },
     "execution_count": 11,
     "metadata": {},
     "output_type": "execute_result"
    }
   ],
   "source": [
    "g.integrate(x,y)"
   ]
  },
  {
   "cell_type": "code",
   "execution_count": 12,
   "id": "8e1380dd",
   "metadata": {},
   "outputs": [
    {
     "data": {
      "text/latex": [
       "$\\displaystyle \\iint g{\\left(x,y \\right)}\\, dx\\, dy$"
      ],
      "text/plain": [
       "Integral(g(x, y), x, y)"
      ]
     },
     "execution_count": 12,
     "metadata": {},
     "output_type": "execute_result"
    }
   ],
   "source": [
    "sy.integrate(g,x,y)"
   ]
  },
  {
   "cell_type": "code",
   "execution_count": 13,
   "id": "4f43b750",
   "metadata": {},
   "outputs": [
    {
     "data": {
      "text/latex": [
       "$\\displaystyle \\int\\limits_{0}^{2}\\int\\limits_{0}^{1} g{\\left(x,y \\right)}\\, dx\\, dy$"
      ],
      "text/plain": [
       "Integral(g(x, y), (x, 0, 1), (y, 0, 2))"
      ]
     },
     "execution_count": 13,
     "metadata": {},
     "output_type": "execute_result"
    }
   ],
   "source": [
    "sy.integrate(g,(x,0,1),(y,0,2))"
   ]
  },
  {
   "cell_type": "code",
   "execution_count": 14,
   "id": "1ca1d5b1",
   "metadata": {},
   "outputs": [
    {
     "data": {
      "text/latex": [
       "$\\displaystyle \\sin{\\left(x \\right)} + \\frac{1}{x}$"
      ],
      "text/plain": [
       "sin(x) + 1/x"
      ]
     },
     "execution_count": 14,
     "metadata": {},
     "output_type": "execute_result"
    }
   ],
   "source": [
    "f=sy.sin(x)+1/x\n",
    "f"
   ]
  },
  {
   "cell_type": "code",
   "execution_count": 15,
   "id": "23906d44",
   "metadata": {},
   "outputs": [
    {
     "data": {
      "text/latex": [
       "$\\displaystyle \\log{\\left(x \\right)} - \\cos{\\left(x \\right)}$"
      ],
      "text/plain": [
       "log(x) - cos(x)"
      ]
     },
     "execution_count": 15,
     "metadata": {},
     "output_type": "execute_result"
    }
   ],
   "source": [
    "f.integrate(x)"
   ]
  },
  {
   "cell_type": "code",
   "execution_count": 17,
   "id": "107eb7ca",
   "metadata": {},
   "outputs": [
    {
     "data": {
      "text/latex": [
       "$\\displaystyle \\cos{\\left(1 \\right)} - \\cos{\\left(10 \\right)} + \\log{\\left(10 \\right)}$"
      ],
      "text/plain": [
       "cos(1) - cos(10) + log(10)"
      ]
     },
     "execution_count": 17,
     "metadata": {},
     "output_type": "execute_result"
    }
   ],
   "source": [
    "f.integrate((x,1,10))"
   ]
  },
  {
   "cell_type": "code",
   "execution_count": 18,
   "id": "36928c5a",
   "metadata": {},
   "outputs": [
    {
     "data": {
      "text/latex": [
       "$\\displaystyle 3.682$"
      ],
      "text/plain": [
       "3.6820"
      ]
     },
     "execution_count": 18,
     "metadata": {},
     "output_type": "execute_result"
    }
   ],
   "source": [
    "f.integrate((x,1,10)).evalf(5)"
   ]
  },
  {
   "cell_type": "code",
   "execution_count": 26,
   "id": "bb4f6b8e",
   "metadata": {},
   "outputs": [
    {
     "data": {
      "text/latex": [
       "$\\displaystyle 3 x^{2} - 3 x + \\cos^{2}{\\left(x \\right)} - 24 + \\frac{1}{\\sin^{2}{\\left(x \\right)}}$"
      ],
      "text/plain": [
       "3*x**2 - 3*x + cos(x)**2 - 24 + sin(x)**(-2)"
      ]
     },
     "execution_count": 26,
     "metadata": {},
     "output_type": "execute_result"
    }
   ],
   "source": [
    "f=1/sy.sin(x)**2+sy.cos(x)**2+3*x**2-3*x-24\n",
    "f"
   ]
  },
  {
   "cell_type": "code",
   "execution_count": 27,
   "id": "52eb6989",
   "metadata": {},
   "outputs": [
    {
     "data": {
      "text/latex": [
       "$\\displaystyle x^{3} - \\frac{3 x^{2}}{2} - \\frac{47 x}{2} + \\frac{\\sin{\\left(x \\right)} \\cos{\\left(x \\right)}}{2} - \\frac{\\cos{\\left(x \\right)}}{\\sin{\\left(x \\right)}}$"
      ],
      "text/plain": [
       "x**3 - 3*x**2/2 - 47*x/2 + sin(x)*cos(x)/2 - cos(x)/sin(x)"
      ]
     },
     "execution_count": 27,
     "metadata": {},
     "output_type": "execute_result"
    }
   ],
   "source": [
    "f.integrate(x)"
   ]
  },
  {
   "cell_type": "code",
   "execution_count": 37,
   "id": "2c20eda6",
   "metadata": {},
   "outputs": [
    {
     "data": {
      "text/latex": [
       "$\\displaystyle \\frac{1}{x^{3} + 2 x^{2} + 5 x - 8}$"
      ],
      "text/plain": [
       "1/(x**3 + 2*x**2 + 5*x - 8)"
      ]
     },
     "execution_count": 37,
     "metadata": {},
     "output_type": "execute_result"
    }
   ],
   "source": [
    "f=1/(x**3+2*x**2+5*x-8)\n",
    "f"
   ]
  },
  {
   "cell_type": "code",
   "execution_count": 38,
   "id": "792e3f3a",
   "metadata": {},
   "outputs": [
    {
     "data": {
      "text/latex": [
       "$\\displaystyle \\frac{\\log{\\left(x - 1 \\right)}}{12} - \\frac{\\log{\\left(x^{2} + 3 x + 8 \\right)}}{24} - \\frac{5 \\sqrt{23} \\operatorname{atan}{\\left(\\frac{2 \\sqrt{23} x}{23} + \\frac{3 \\sqrt{23}}{23} \\right)}}{276}$"
      ],
      "text/plain": [
       "log(x - 1)/12 - log(x**2 + 3*x + 8)/24 - 5*sqrt(23)*atan(2*sqrt(23)*x/23 + 3*sqrt(23)/23)/276"
      ]
     },
     "execution_count": 38,
     "metadata": {},
     "output_type": "execute_result"
    }
   ],
   "source": [
    "f.integrate(x)"
   ]
  },
  {
   "cell_type": "code",
   "execution_count": 43,
   "id": "a33c76c5",
   "metadata": {},
   "outputs": [
    {
     "data": {
      "text/latex": [
       "$\\displaystyle - \\frac{\\log{\\left(26 \\right)}}{24} - \\frac{5 \\sqrt{23} \\operatorname{atan}{\\left(\\frac{9 \\sqrt{23}}{23} \\right)}}{276} + \\frac{\\log{\\left(2 \\right)}}{12} + \\frac{5 \\sqrt{23} \\operatorname{atan}{\\left(\\frac{7 \\sqrt{23}}{23} \\right)}}{276} + \\frac{\\log{\\left(18 \\right)}}{24}$"
      ],
      "text/plain": [
       "-log(26)/24 - 5*sqrt(23)*atan(9*sqrt(23)/23)/276 + log(2)/12 + 5*sqrt(23)*atan(7*sqrt(23)/23)/276 + log(18)/24"
      ]
     },
     "execution_count": 43,
     "metadata": {},
     "output_type": "execute_result"
    }
   ],
   "source": [
    "sy.integrate(f,(x,2,3))"
   ]
  },
  {
   "cell_type": "code",
   "execution_count": 45,
   "id": "c603b8dc",
   "metadata": {},
   "outputs": [
    {
     "data": {
      "text/latex": [
       "$\\displaystyle 0.03279$"
      ],
      "text/plain": [
       "0.032790"
      ]
     },
     "execution_count": 45,
     "metadata": {},
     "output_type": "execute_result"
    }
   ],
   "source": [
    "sy.integrate(f,(x,2,3)).evalf(5)"
   ]
  },
  {
   "cell_type": "code",
   "execution_count": 46,
   "id": "edb7a95f",
   "metadata": {},
   "outputs": [
    {
     "data": {
      "text/latex": [
       "$\\displaystyle e^{- x^{2}}$"
      ],
      "text/plain": [
       "exp(-x**2)"
      ]
     },
     "execution_count": 46,
     "metadata": {},
     "output_type": "execute_result"
    }
   ],
   "source": [
    "g=sy.exp(-x**2)\n",
    "g"
   ]
  },
  {
   "cell_type": "code",
   "execution_count": 47,
   "id": "3f32325b",
   "metadata": {},
   "outputs": [
    {
     "data": {
      "text/latex": [
       "$\\displaystyle \\frac{\\sqrt{\\pi} \\operatorname{erf}{\\left(x \\right)}}{2}$"
      ],
      "text/plain": [
       "sqrt(pi)*erf(x)/2"
      ]
     },
     "execution_count": 47,
     "metadata": {},
     "output_type": "execute_result"
    }
   ],
   "source": [
    "g.integrate(x)"
   ]
  },
  {
   "cell_type": "code",
   "execution_count": 49,
   "id": "9cb60dfd",
   "metadata": {},
   "outputs": [
    {
     "data": {
      "text/latex": [
       "$\\displaystyle \\frac{\\sqrt{\\pi}}{2}$"
      ],
      "text/plain": [
       "sqrt(pi)/2"
      ]
     },
     "execution_count": 49,
     "metadata": {},
     "output_type": "execute_result"
    }
   ],
   "source": [
    "g.integrate((x,0,sy.oo))"
   ]
  },
  {
   "cell_type": "code",
   "execution_count": 50,
   "id": "7f7b027c",
   "metadata": {},
   "outputs": [
    {
     "data": {
      "text/latex": [
       "$\\displaystyle 0.886226925452758$"
      ],
      "text/plain": [
       "0.886226925452758"
      ]
     },
     "execution_count": 50,
     "metadata": {},
     "output_type": "execute_result"
    }
   ],
   "source": [
    "g.integrate((x,0,sy.oo)).evalf()"
   ]
  },
  {
   "cell_type": "code",
   "execution_count": 54,
   "id": "737908ce",
   "metadata": {},
   "outputs": [
    {
     "data": {
      "text/latex": [
       "$\\displaystyle \\int e^{- x^{2}}\\, dx$"
      ],
      "text/plain": [
       "Integral(exp(-x**2), x)"
      ]
     },
     "execution_count": 54,
     "metadata": {},
     "output_type": "execute_result"
    }
   ],
   "source": [
    "sy.Integral(g,x)"
   ]
  },
  {
   "cell_type": "code",
   "execution_count": 55,
   "id": "1f98c911",
   "metadata": {},
   "outputs": [
    {
     "data": {
      "text/latex": [
       "$\\displaystyle \\int\\limits_{0}^{\\infty} e^{- x^{2}}\\, dx$"
      ],
      "text/plain": [
       "Integral(exp(-x**2), (x, 0, oo))"
      ]
     },
     "execution_count": 55,
     "metadata": {},
     "output_type": "execute_result"
    }
   ],
   "source": [
    "sy.Integral(g,(x,0,sy.oo))"
   ]
  },
  {
   "cell_type": "code",
   "execution_count": 57,
   "id": "6f3b79ec",
   "metadata": {},
   "outputs": [
    {
     "data": {
      "text/latex": [
       "$\\displaystyle \\frac{\\sqrt{\\pi}}{2}$"
      ],
      "text/plain": [
       "sqrt(pi)/2"
      ]
     },
     "execution_count": 57,
     "metadata": {},
     "output_type": "execute_result"
    }
   ],
   "source": [
    "h=sy.Integral(g,(x,0,sy.oo)).doit()\n",
    "h"
   ]
  },
  {
   "cell_type": "code",
   "execution_count": 58,
   "id": "e4ce70ed",
   "metadata": {},
   "outputs": [
    {
     "data": {
      "text/latex": [
       "$\\displaystyle 0.886226925452758$"
      ],
      "text/plain": [
       "0.886226925452758"
      ]
     },
     "execution_count": 58,
     "metadata": {},
     "output_type": "execute_result"
    }
   ],
   "source": [
    "h.evalf()"
   ]
  },
  {
   "cell_type": "code",
   "execution_count": 59,
   "id": "79166e52",
   "metadata": {},
   "outputs": [
    {
     "data": {
      "text/latex": [
       "$\\displaystyle - x y + \\sin{\\left(x + y \\right)} + 1$"
      ],
      "text/plain": [
       "-x*y + sin(x + y) + 1"
      ]
     },
     "execution_count": 59,
     "metadata": {},
     "output_type": "execute_result"
    }
   ],
   "source": [
    "f=sy.sin(x+y)-x*y+1\n",
    "f"
   ]
  },
  {
   "cell_type": "code",
   "execution_count": 63,
   "id": "c39c0ed0",
   "metadata": {},
   "outputs": [
    {
     "data": {
      "text/latex": [
       "$\\displaystyle \\int \\left(- x y + \\sin{\\left(x + y \\right)} + 1\\right)\\, dy$"
      ],
      "text/plain": [
       "Integral(-x*y + sin(x + y) + 1, y)"
      ]
     },
     "execution_count": 63,
     "metadata": {},
     "output_type": "execute_result"
    }
   ],
   "source": [
    "g=sy.Integral(f,y)\n",
    "g"
   ]
  },
  {
   "cell_type": "code",
   "execution_count": 64,
   "id": "349db8cb",
   "metadata": {},
   "outputs": [
    {
     "data": {
      "text/latex": [
       "$\\displaystyle - \\frac{x y^{2}}{2} + y - \\cos{\\left(x + y \\right)}$"
      ],
      "text/plain": [
       "-x*y**2/2 + y - cos(x + y)"
      ]
     },
     "execution_count": 64,
     "metadata": {},
     "output_type": "execute_result"
    }
   ],
   "source": [
    "g.doit()"
   ]
  },
  {
   "cell_type": "code",
   "execution_count": 65,
   "id": "1622eb53",
   "metadata": {},
   "outputs": [
    {
     "data": {
      "text/latex": [
       "$\\displaystyle \\left(x + y\\right)^{2}$"
      ],
      "text/plain": [
       "(x + y)**2"
      ]
     },
     "execution_count": 65,
     "metadata": {},
     "output_type": "execute_result"
    }
   ],
   "source": [
    "f=(x+y)**2\n",
    "f"
   ]
  },
  {
   "cell_type": "code",
   "execution_count": 67,
   "id": "a9911ea4",
   "metadata": {},
   "outputs": [
    {
     "data": {
      "text/latex": [
       "$\\displaystyle \\int \\left(x + y\\right)^{2}\\, dx$"
      ],
      "text/plain": [
       "Integral((x + y)**2, x)"
      ]
     },
     "execution_count": 67,
     "metadata": {},
     "output_type": "execute_result"
    }
   ],
   "source": [
    "sy.Integral(f,x)"
   ]
  },
  {
   "cell_type": "code",
   "execution_count": 69,
   "id": "f714656a",
   "metadata": {},
   "outputs": [
    {
     "data": {
      "text/latex": [
       "$\\displaystyle \\int \\left(x + y\\right)^{2}\\, dy$"
      ],
      "text/plain": [
       "Integral((x + y)**2, y)"
      ]
     },
     "execution_count": 69,
     "metadata": {},
     "output_type": "execute_result"
    }
   ],
   "source": [
    "sy.Integral(f,y)"
   ]
  },
  {
   "cell_type": "code",
   "execution_count": 71,
   "id": "a0246131",
   "metadata": {},
   "outputs": [
    {
     "data": {
      "text/latex": [
       "$\\displaystyle \\int\\limits_{0}^{1}\\int\\limits_{0}^{1} \\left(x + y\\right)^{2}\\, dx\\, dy$"
      ],
      "text/plain": [
       "Integral((x + y)**2, (x, 0, 1), (y, 0, 1))"
      ]
     },
     "execution_count": 71,
     "metadata": {},
     "output_type": "execute_result"
    }
   ],
   "source": [
    "g=sy.Integral(f,(x,0,1),(y,0,1))\n",
    "g"
   ]
  },
  {
   "cell_type": "code",
   "execution_count": 72,
   "id": "17c5bfb0",
   "metadata": {},
   "outputs": [
    {
     "data": {
      "text/latex": [
       "$\\displaystyle \\frac{7}{6}$"
      ],
      "text/plain": [
       "7/6"
      ]
     },
     "execution_count": 72,
     "metadata": {},
     "output_type": "execute_result"
    }
   ],
   "source": [
    "g.doit()"
   ]
  },
  {
   "cell_type": "code",
   "execution_count": 75,
   "id": "224a47b7",
   "metadata": {},
   "outputs": [
    {
     "data": {
      "text/latex": [
       "$\\displaystyle 1.1666666666666666667$"
      ],
      "text/plain": [
       "1.1666666666666666667"
      ]
     },
     "execution_count": 75,
     "metadata": {},
     "output_type": "execute_result"
    }
   ],
   "source": [
    "g.doit().evalf(20)"
   ]
  },
  {
   "cell_type": "code",
   "execution_count": 77,
   "id": "1306866d",
   "metadata": {},
   "outputs": [
    {
     "data": {
      "text/latex": [
       "$\\displaystyle \\int \\frac{1}{1 - \\sin{\\left(x \\right)}}\\, dx$"
      ],
      "text/plain": [
       "Integral(1/(1 - sin(x)), x)"
      ]
     },
     "execution_count": 77,
     "metadata": {},
     "output_type": "execute_result"
    }
   ],
   "source": [
    "g=sy.Integral(1/(1-sy.sin(x)),x)\n",
    "g"
   ]
  },
  {
   "cell_type": "code",
   "execution_count": 78,
   "id": "eccd2e61",
   "metadata": {},
   "outputs": [
    {
     "data": {
      "text/latex": [
       "$\\displaystyle - \\frac{2}{\\tan{\\left(\\frac{x}{2} \\right)} - 1}$"
      ],
      "text/plain": [
       "-2/(tan(x/2) - 1)"
      ]
     },
     "execution_count": 78,
     "metadata": {},
     "output_type": "execute_result"
    }
   ],
   "source": [
    "g.doit()"
   ]
  },
  {
   "cell_type": "code",
   "execution_count": 79,
   "id": "7f0dc866",
   "metadata": {},
   "outputs": [
    {
     "data": {
      "text/latex": [
       "$\\displaystyle \\frac{\\sin{\\left(x \\right)}}{\\sqrt{7 \\cos{\\left(x \\right)} + 1}}$"
      ],
      "text/plain": [
       "sin(x)/sqrt(7*cos(x) + 1)"
      ]
     },
     "execution_count": 79,
     "metadata": {},
     "output_type": "execute_result"
    }
   ],
   "source": [
    "f=sy.sin(x)/sy.sqrt(1+7*sy.cos(x))\n",
    "f"
   ]
  },
  {
   "cell_type": "code",
   "execution_count": 80,
   "id": "3fb4c84c",
   "metadata": {},
   "outputs": [
    {
     "data": {
      "text/latex": [
       "$\\displaystyle \\int \\frac{\\sin{\\left(x \\right)}}{\\sqrt{7 \\cos{\\left(x \\right)} + 1}}\\, dx$"
      ],
      "text/plain": [
       "Integral(sin(x)/sqrt(7*cos(x) + 1), x)"
      ]
     },
     "execution_count": 80,
     "metadata": {},
     "output_type": "execute_result"
    }
   ],
   "source": [
    "g=sy.Integral(f,x)\n",
    "g"
   ]
  },
  {
   "cell_type": "code",
   "execution_count": 81,
   "id": "4f59694d",
   "metadata": {},
   "outputs": [
    {
     "data": {
      "text/latex": [
       "$\\displaystyle - \\frac{2 \\sqrt{7 \\cos{\\left(x \\right)} + 1}}{7}$"
      ],
      "text/plain": [
       "-2*sqrt(7*cos(x) + 1)/7"
      ]
     },
     "execution_count": 81,
     "metadata": {},
     "output_type": "execute_result"
    }
   ],
   "source": [
    "g.doit()"
   ]
  },
  {
   "cell_type": "code",
   "execution_count": 83,
   "id": "73cac39d",
   "metadata": {},
   "outputs": [
    {
     "data": {
      "text/latex": [
       "$\\displaystyle - \\frac{2 \\sqrt{7 \\cos{\\left(x \\right)} + 1}}{7}$"
      ],
      "text/plain": [
       "-2*sqrt(7*cos(x) + 1)/7"
      ]
     },
     "execution_count": 83,
     "metadata": {},
     "output_type": "execute_result"
    }
   ],
   "source": [
    "f.integrate(x)"
   ]
  },
  {
   "cell_type": "code",
   "execution_count": 84,
   "id": "e864523a",
   "metadata": {},
   "outputs": [
    {
     "data": {
      "text/latex": [
       "$\\displaystyle \\frac{4 \\sqrt{2}}{7} - \\frac{2 \\sqrt{6} i}{7}$"
      ],
      "text/plain": [
       "4*sqrt(2)/7 - 2*sqrt(6)*I/7"
      ]
     },
     "execution_count": 84,
     "metadata": {},
     "output_type": "execute_result"
    }
   ],
   "source": [
    "f.integrate((x,0,sy.pi))"
   ]
  },
  {
   "cell_type": "code",
   "execution_count": 85,
   "id": "974532c3",
   "metadata": {},
   "outputs": [
    {
     "data": {
      "text/latex": [
       "$\\displaystyle x \\sqrt{x + 1}$"
      ],
      "text/plain": [
       "x*sqrt(x + 1)"
      ]
     },
     "execution_count": 85,
     "metadata": {},
     "output_type": "execute_result"
    }
   ],
   "source": [
    "f=x*sy.sqrt(x+1)\n",
    "f"
   ]
  },
  {
   "cell_type": "code",
   "execution_count": 86,
   "id": "dad75970",
   "metadata": {},
   "outputs": [
    {
     "data": {
      "text/latex": [
       "$\\displaystyle \\int x \\sqrt{x + 1}\\, dx$"
      ],
      "text/plain": [
       "Integral(x*sqrt(x + 1), x)"
      ]
     },
     "execution_count": 86,
     "metadata": {},
     "output_type": "execute_result"
    }
   ],
   "source": [
    "sy.Integral(f,x)"
   ]
  },
  {
   "cell_type": "code",
   "execution_count": 87,
   "id": "05ae560b",
   "metadata": {},
   "outputs": [
    {
     "data": {
      "text/latex": [
       "$\\displaystyle \\frac{2 x^{2} \\sqrt{x + 1}}{5} + \\frac{2 x \\sqrt{x + 1}}{15} - \\frac{4 \\sqrt{x + 1}}{15}$"
      ],
      "text/plain": [
       "2*x**2*sqrt(x + 1)/5 + 2*x*sqrt(x + 1)/15 - 4*sqrt(x + 1)/15"
      ]
     },
     "execution_count": 87,
     "metadata": {},
     "output_type": "execute_result"
    }
   ],
   "source": [
    "f.integrate(x)"
   ]
  },
  {
   "cell_type": "code",
   "execution_count": 88,
   "id": "f6b6f1ce",
   "metadata": {},
   "outputs": [
    {
     "data": {
      "text/latex": [
       "$\\displaystyle 2 x$"
      ],
      "text/plain": [
       "2*x"
      ]
     },
     "execution_count": 88,
     "metadata": {},
     "output_type": "execute_result"
    }
   ],
   "source": [
    "f=2*x\n",
    "f"
   ]
  },
  {
   "cell_type": "code",
   "execution_count": 89,
   "id": "692686f1",
   "metadata": {},
   "outputs": [
    {
     "data": {
      "text/latex": [
       "$\\displaystyle \\int\\limits_{1}^{2} 2 x\\, dx$"
      ],
      "text/plain": [
       "Integral(2*x, (x, 1, 2))"
      ]
     },
     "execution_count": 89,
     "metadata": {},
     "output_type": "execute_result"
    }
   ],
   "source": [
    "g=sy.Integral(f,(x,1,2))\n",
    "g"
   ]
  },
  {
   "cell_type": "code",
   "execution_count": 91,
   "id": "6eb9594f",
   "metadata": {},
   "outputs": [
    {
     "data": {
      "text/latex": [
       "$\\displaystyle 3 x$"
      ],
      "text/plain": [
       "3*x"
      ]
     },
     "execution_count": 91,
     "metadata": {},
     "output_type": "execute_result"
    }
   ],
   "source": [
    "g.integrate(x)"
   ]
  },
  {
   "cell_type": "code",
   "execution_count": 92,
   "id": "b9b543aa",
   "metadata": {},
   "outputs": [
    {
     "data": {
      "text/latex": [
       "$\\displaystyle 3$"
      ],
      "text/plain": [
       "3"
      ]
     },
     "execution_count": 92,
     "metadata": {},
     "output_type": "execute_result"
    }
   ],
   "source": [
    "g.doit()"
   ]
  },
  {
   "cell_type": "code",
   "execution_count": 93,
   "id": "92ce16bd",
   "metadata": {},
   "outputs": [
    {
     "data": {
      "text/latex": [
       "$\\displaystyle 3.0$"
      ],
      "text/plain": [
       "3.00000000000000"
      ]
     },
     "execution_count": 93,
     "metadata": {},
     "output_type": "execute_result"
    }
   ],
   "source": [
    "g.doit().evalf()"
   ]
  },
  {
   "cell_type": "code",
   "execution_count": null,
   "id": "cba39674",
   "metadata": {},
   "outputs": [],
   "source": []
  }
 ],
 "metadata": {
  "kernelspec": {
   "display_name": "Python 3 (ipykernel)",
   "language": "python",
   "name": "python3"
  },
  "language_info": {
   "codemirror_mode": {
    "name": "ipython",
    "version": 3
   },
   "file_extension": ".py",
   "mimetype": "text/x-python",
   "name": "python",
   "nbconvert_exporter": "python",
   "pygments_lexer": "ipython3",
   "version": "3.10.9"
  }
 },
 "nbformat": 4,
 "nbformat_minor": 5
}
