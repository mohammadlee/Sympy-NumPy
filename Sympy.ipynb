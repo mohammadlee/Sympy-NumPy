{
 "cells": [
  {
   "cell_type": "code",
   "execution_count": 1,
   "id": "4c56ee66",
   "metadata": {},
   "outputs": [],
   "source": [
    "import numpy as np\n",
    "import sympy as sy"
   ]
  },
  {
   "cell_type": "code",
   "execution_count": 3,
   "id": "b610e740",
   "metadata": {},
   "outputs": [
    {
     "data": {
      "text/latex": [
       "$\\displaystyle x$"
      ],
      "text/plain": [
       "x"
      ]
     },
     "execution_count": 3,
     "metadata": {},
     "output_type": "execute_result"
    }
   ],
   "source": [
    "x=sy.Symbol('x')\n",
    "x"
   ]
  },
  {
   "cell_type": "code",
   "execution_count": 4,
   "id": "ef73d163",
   "metadata": {},
   "outputs": [
    {
     "data": {
      "text/latex": [
       "$\\displaystyle x^{2} - 1$"
      ],
      "text/plain": [
       "x**2 - 1"
      ]
     },
     "execution_count": 4,
     "metadata": {},
     "output_type": "execute_result"
    }
   ],
   "source": [
    "x**2-1"
   ]
  },
  {
   "cell_type": "code",
   "execution_count": 10,
   "id": "191b4334",
   "metadata": {},
   "outputs": [
    {
     "data": {
      "text/latex": [
       "$\\displaystyle x + \\sqrt{x^{2} - 1} + \\sin{\\left(x \\right)}$"
      ],
      "text/plain": [
       "x + sqrt(x**2 - 1) + sin(x)"
      ]
     },
     "execution_count": 10,
     "metadata": {},
     "output_type": "execute_result"
    }
   ],
   "source": [
    "x+sy.sin(x)+sy.sqrt(x**2-1)"
   ]
  },
  {
   "cell_type": "code",
   "execution_count": 24,
   "id": "25302d68",
   "metadata": {},
   "outputs": [],
   "source": [
    "a,b=sy.symbols(\"a,b\")"
   ]
  },
  {
   "cell_type": "code",
   "execution_count": 27,
   "id": "1707d6dc",
   "metadata": {},
   "outputs": [
    {
     "data": {
      "text/latex": [
       "$\\displaystyle a^{2} + b^{2}$"
      ],
      "text/plain": [
       "a**2 + b**2"
      ]
     },
     "execution_count": 27,
     "metadata": {},
     "output_type": "execute_result"
    }
   ],
   "source": [
    "a**2+b**2"
   ]
  },
  {
   "cell_type": "code",
   "execution_count": 30,
   "id": "45078caf",
   "metadata": {},
   "outputs": [
    {
     "data": {
      "text/latex": [
       "$\\displaystyle \\frac{\\sqrt{x} + \\sin{\\left(x \\right)}}{- x^{2} + \\operatorname{asin}{\\left(x \\right)}}$"
      ],
      "text/plain": [
       "(sqrt(x) + sin(x))/(-x**2 + asin(x))"
      ]
     },
     "execution_count": 30,
     "metadata": {},
     "output_type": "execute_result"
    }
   ],
   "source": [
    "f=(sy.sin(x)+sy.sqrt(x))/(sy.asin(x)-x**2)\n",
    "f"
   ]
  },
  {
   "cell_type": "code",
   "execution_count": 31,
   "id": "920f09fc",
   "metadata": {},
   "outputs": [
    {
     "data": {
      "text/latex": [
       "$\\displaystyle \\left(-1\\right)^{n}$"
      ],
      "text/plain": [
       "(-1)**n"
      ]
     },
     "execution_count": 31,
     "metadata": {},
     "output_type": "execute_result"
    }
   ],
   "source": [
    "n=sy.symbols('n',integer=True)\n",
    "sy.cos(n*sy.pi)"
   ]
  },
  {
   "cell_type": "code",
   "execution_count": 37,
   "id": "009f463a",
   "metadata": {},
   "outputs": [
    {
     "data": {
      "text/latex": [
       "$\\displaystyle 1$"
      ],
      "text/plain": [
       "1"
      ]
     },
     "execution_count": 37,
     "metadata": {},
     "output_type": "execute_result"
    }
   ],
   "source": [
    "n=sy.symbols('n',even=True)\n",
    "sy.cos(n*sy.pi)"
   ]
  },
  {
   "cell_type": "code",
   "execution_count": 38,
   "id": "efbcbd21",
   "metadata": {},
   "outputs": [
    {
     "data": {
      "text/latex": [
       "$\\displaystyle -1$"
      ],
      "text/plain": [
       "-1"
      ]
     },
     "execution_count": 38,
     "metadata": {},
     "output_type": "execute_result"
    }
   ],
   "source": [
    "n=sy.symbols('n',odd=True)\n",
    "sy.cos(n*sy.pi)"
   ]
  },
  {
   "cell_type": "code",
   "execution_count": 39,
   "id": "45fb660f",
   "metadata": {},
   "outputs": [
    {
     "data": {
      "text/latex": [
       "$\\displaystyle \\cos{\\left(\\pi n \\right)}$"
      ],
      "text/plain": [
       "cos(pi*n)"
      ]
     },
     "execution_count": 39,
     "metadata": {},
     "output_type": "execute_result"
    }
   ],
   "source": [
    "n=sy.symbols('n',positive=True)\n",
    "sy.cos(n*sy.pi)"
   ]
  },
  {
   "cell_type": "code",
   "execution_count": 41,
   "id": "a413d356",
   "metadata": {},
   "outputs": [
    {
     "data": {
      "text/latex": [
       "$\\displaystyle \\cos{\\left(\\pi n \\right)}$"
      ],
      "text/plain": [
       "cos(pi*n)"
      ]
     },
     "execution_count": 41,
     "metadata": {},
     "output_type": "execute_result"
    }
   ],
   "source": [
    "n=sy.symbols('n',negative=True)\n",
    "sy.cos(n*sy.pi)"
   ]
  },
  {
   "cell_type": "code",
   "execution_count": 42,
   "id": "0ed35c85",
   "metadata": {},
   "outputs": [
    {
     "data": {
      "text/latex": [
       "$\\displaystyle \\left(-1\\right)^{n}$"
      ],
      "text/plain": [
       "(-1)**n"
      ]
     },
     "execution_count": 42,
     "metadata": {},
     "output_type": "execute_result"
    }
   ],
   "source": [
    "n=sy.symbols('n',prime=True)\n",
    "sy.cos(n*sy.pi)"
   ]
  },
  {
   "cell_type": "code",
   "execution_count": 46,
   "id": "72cdf5e6",
   "metadata": {},
   "outputs": [
    {
     "data": {
      "text/latex": [
       "$\\displaystyle \\left(-1\\right)^{n}$"
      ],
      "text/plain": [
       "(-1)**n"
      ]
     },
     "execution_count": 46,
     "metadata": {},
     "output_type": "execute_result"
    }
   ],
   "source": [
    "n=sy.symbols('n',integer=True,negative=True)\n",
    "sy.cos(n*sy.pi)"
   ]
  },
  {
   "cell_type": "code",
   "execution_count": null,
   "id": "370736a0",
   "metadata": {},
   "outputs": [],
   "source": []
  }
 ],
 "metadata": {
  "kernelspec": {
   "display_name": "Python 3 (ipykernel)",
   "language": "python",
   "name": "python3"
  },
  "language_info": {
   "codemirror_mode": {
    "name": "ipython",
    "version": 3
   },
   "file_extension": ".py",
   "mimetype": "text/x-python",
   "name": "python",
   "nbconvert_exporter": "python",
   "pygments_lexer": "ipython3",
   "version": "3.10.9"
  }
 },
 "nbformat": 4,
 "nbformat_minor": 5
}
