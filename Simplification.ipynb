{
 "cells": [
  {
   "cell_type": "code",
   "execution_count": 1,
   "id": "d47a22c5",
   "metadata": {},
   "outputs": [],
   "source": [
    "import numpy as np \n",
    "import sympy as sy"
   ]
  },
  {
   "cell_type": "code",
   "execution_count": 3,
   "id": "b015ed65",
   "metadata": {},
   "outputs": [
    {
     "data": {
      "text/latex": [
       "$\\displaystyle x^{2} + 2 x y + y^{2}$"
      ],
      "text/plain": [
       "x**2 + 2*x*y + y**2"
      ]
     },
     "execution_count": 3,
     "metadata": {},
     "output_type": "execute_result"
    }
   ],
   "source": [
    "x,y=sy.symbols(\"x, y\")\n",
    "p=x**2+2*x*y+y**2\n",
    "p"
   ]
  },
  {
   "cell_type": "code",
   "execution_count": 4,
   "id": "17c71ce9",
   "metadata": {},
   "outputs": [
    {
     "data": {
      "text/latex": [
       "$\\displaystyle 4 x^{2}$"
      ],
      "text/plain": [
       "4*x**2"
      ]
     },
     "execution_count": 4,
     "metadata": {},
     "output_type": "execute_result"
    }
   ],
   "source": [
    "p.subs(y,x)"
   ]
  },
  {
   "cell_type": "code",
   "execution_count": 11,
   "id": "db642c8a",
   "metadata": {},
   "outputs": [],
   "source": [
    "t=sy.symbols(\"t\")"
   ]
  },
  {
   "cell_type": "code",
   "execution_count": 12,
   "id": "08e24b0a",
   "metadata": {},
   "outputs": [
    {
     "data": {
      "text/latex": [
       "$\\displaystyle t^{2} + 2 t y + y^{2}$"
      ],
      "text/plain": [
       "t**2 + 2*t*y + y**2"
      ]
     },
     "execution_count": 12,
     "metadata": {},
     "output_type": "execute_result"
    }
   ],
   "source": [
    "p.subs(x,t)"
   ]
  },
  {
   "cell_type": "code",
   "execution_count": 13,
   "id": "56ba7eea",
   "metadata": {},
   "outputs": [
    {
     "data": {
      "text/latex": [
       "$\\displaystyle x^{2} + 2 x y + y^{2}$"
      ],
      "text/plain": [
       "x**2 + 2*x*y + y**2"
      ]
     },
     "execution_count": 13,
     "metadata": {},
     "output_type": "execute_result"
    }
   ],
   "source": [
    "p"
   ]
  },
  {
   "cell_type": "code",
   "execution_count": 15,
   "id": "3633c4c7",
   "metadata": {},
   "outputs": [
    {
     "data": {
      "text/latex": [
       "$\\displaystyle y^{2} + 2 y \\left(x + y\\right) + \\left(x + y\\right)^{2}$"
      ],
      "text/plain": [
       "y**2 + 2*y*(x + y) + (x + y)**2"
      ]
     },
     "execution_count": 15,
     "metadata": {},
     "output_type": "execute_result"
    }
   ],
   "source": [
    "q=p.subs(x,x+y)\n",
    "q"
   ]
  },
  {
   "cell_type": "code",
   "execution_count": 16,
   "id": "c846b5a4",
   "metadata": {},
   "outputs": [
    {
     "data": {
      "text/latex": [
       "$\\displaystyle y^{2} + 2 y \\sin{\\left(x \\right)} + \\sin^{2}{\\left(x \\right)}$"
      ],
      "text/plain": [
       "y**2 + 2*y*sin(x) + sin(x)**2"
      ]
     },
     "execution_count": 16,
     "metadata": {},
     "output_type": "execute_result"
    }
   ],
   "source": [
    "p.subs(x,sy.sin(x))"
   ]
  },
  {
   "cell_type": "code",
   "execution_count": 19,
   "id": "a69a66e8",
   "metadata": {},
   "outputs": [
    {
     "data": {
      "text/latex": [
       "$\\displaystyle \\sin^{2}{\\left(x \\right)} + 2 \\sin{\\left(x \\right)} \\cos{\\left(y \\right)} + \\cos^{2}{\\left(y \\right)}$"
      ],
      "text/plain": [
       "sin(x)**2 + 2*sin(x)*cos(y) + cos(y)**2"
      ]
     },
     "execution_count": 19,
     "metadata": {},
     "output_type": "execute_result"
    }
   ],
   "source": [
    "w=p.subs({x:sy.sin(x),y:sy.cos(y)})\n",
    "w"
   ]
  },
  {
   "cell_type": "code",
   "execution_count": 23,
   "id": "e598a538",
   "metadata": {},
   "outputs": [
    {
     "data": {
      "text/latex": [
       "$\\displaystyle \\left(\\sin{\\left(x \\right)} + \\cos{\\left(y \\right)}\\right)^{2}$"
      ],
      "text/plain": [
       "(sin(x) + cos(y))**2"
      ]
     },
     "execution_count": 23,
     "metadata": {},
     "output_type": "execute_result"
    }
   ],
   "source": [
    "w.simplify()"
   ]
  },
  {
   "cell_type": "code",
   "execution_count": 26,
   "id": "f2aa3f81",
   "metadata": {},
   "outputs": [
    {
     "data": {
      "text/latex": [
       "$\\displaystyle - e^{z} + \\sin^{2}{\\left(x \\right)} + \\cos^{2}{\\left(y \\right)}$"
      ],
      "text/plain": [
       "-exp(z) + sin(x)**2 + cos(y)**2"
      ]
     },
     "execution_count": 26,
     "metadata": {},
     "output_type": "execute_result"
    }
   ],
   "source": [
    "z=sy.symbols('z')\n",
    "p=sy.sin(x)**2+sy.cos(y)**2-sy.exp(z)\n",
    "p"
   ]
  },
  {
   "cell_type": "code",
   "execution_count": 27,
   "id": "2ecbccce",
   "metadata": {},
   "outputs": [],
   "source": [
    "val={x:sy.pi/3,y:sy.pi/2,z:-1}"
   ]
  },
  {
   "cell_type": "code",
   "execution_count": 28,
   "id": "423409d2",
   "metadata": {},
   "outputs": [
    {
     "data": {
      "text/latex": [
       "$\\displaystyle \\frac{3}{4} - e^{-1}$"
      ],
      "text/plain": [
       "3/4 - exp(-1)"
      ]
     },
     "execution_count": 28,
     "metadata": {},
     "output_type": "execute_result"
    }
   ],
   "source": [
    "p.subs(val)"
   ]
  },
  {
   "cell_type": "code",
   "execution_count": null,
   "id": "471bd1d8",
   "metadata": {},
   "outputs": [],
   "source": []
  }
 ],
 "metadata": {
  "kernelspec": {
   "display_name": "Python 3 (ipykernel)",
   "language": "python",
   "name": "python3"
  },
  "language_info": {
   "codemirror_mode": {
    "name": "ipython",
    "version": 3
   },
   "file_extension": ".py",
   "mimetype": "text/x-python",
   "name": "python",
   "nbconvert_exporter": "python",
   "pygments_lexer": "ipython3",
   "version": "3.10.9"
  }
 },
 "nbformat": 4,
 "nbformat_minor": 5
}
