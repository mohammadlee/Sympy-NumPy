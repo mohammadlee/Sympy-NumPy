{
 "cells": [
  {
   "cell_type": "code",
   "execution_count": 1,
   "id": "f41e9262",
   "metadata": {},
   "outputs": [],
   "source": [
    "import numpy as np\n",
    "import sympy as sy"
   ]
  },
  {
   "cell_type": "code",
   "execution_count": 2,
   "id": "2e434fd1",
   "metadata": {},
   "outputs": [
    {
     "data": {
      "text/latex": [
       "$\\displaystyle \\left[\\begin{matrix}2 & -1 & 4\\\\3 & -2 & 6\\\\8 & 1 & 5\\end{matrix}\\right]$"
      ],
      "text/plain": [
       "Matrix([\n",
       "[2, -1, 4],\n",
       "[3, -2, 6],\n",
       "[8,  1, 5]])"
      ]
     },
     "execution_count": 2,
     "metadata": {},
     "output_type": "execute_result"
    }
   ],
   "source": [
    "A=sy.Matrix([[2,-1,4],[3,-2,6],[8,1,5]])\n",
    "A"
   ]
  },
  {
   "cell_type": "code",
   "execution_count": 3,
   "id": "7de4731a",
   "metadata": {},
   "outputs": [
    {
     "data": {
      "text/latex": [
       "$\\displaystyle \\left[\\begin{matrix}2 & 3 & 8\\\\-1 & -2 & 1\\\\4 & 6 & 5\\end{matrix}\\right]$"
      ],
      "text/plain": [
       "Matrix([\n",
       "[ 2,  3, 8],\n",
       "[-1, -2, 1],\n",
       "[ 4,  6, 5]])"
      ]
     },
     "execution_count": 3,
     "metadata": {},
     "output_type": "execute_result"
    }
   ],
   "source": [
    "A.transpose()"
   ]
  },
  {
   "cell_type": "code",
   "execution_count": 4,
   "id": "045edaba",
   "metadata": {},
   "outputs": [
    {
     "data": {
      "text/latex": [
       "$\\displaystyle \\left[\\begin{matrix}2 & 3 & 8\\\\-1 & -2 & 1\\\\4 & 6 & 5\\end{matrix}\\right]$"
      ],
      "text/plain": [
       "Matrix([\n",
       "[ 2,  3, 8],\n",
       "[-1, -2, 1],\n",
       "[ 4,  6, 5]])"
      ]
     },
     "execution_count": 4,
     "metadata": {},
     "output_type": "execute_result"
    }
   ],
   "source": [
    "A.adjoint()"
   ]
  },
  {
   "cell_type": "code",
   "execution_count": 10,
   "id": "ade161da",
   "metadata": {},
   "outputs": [
    {
     "data": {
      "text/latex": [
       "$\\displaystyle \\left[\\begin{matrix}i & 1 + 2 i\\\\-1 & 1 - i\\end{matrix}\\right]$"
      ],
      "text/plain": [
       "Matrix([\n",
       "[ I, 1 + 2*I],\n",
       "[-1,   1 - I]])"
      ]
     },
     "execution_count": 10,
     "metadata": {},
     "output_type": "execute_result"
    }
   ],
   "source": [
    "B=sy.Matrix([[sy.I,1+2*sy.I],[-1,1-sy.I]])\n",
    "B"
   ]
  },
  {
   "cell_type": "code",
   "execution_count": 11,
   "id": "62d60218",
   "metadata": {},
   "outputs": [
    {
     "data": {
      "text/latex": [
       "$\\displaystyle \\left[\\begin{matrix}i & -1\\\\1 + 2 i & 1 - i\\end{matrix}\\right]$"
      ],
      "text/plain": [
       "Matrix([\n",
       "[      I,    -1],\n",
       "[1 + 2*I, 1 - I]])"
      ]
     },
     "execution_count": 11,
     "metadata": {},
     "output_type": "execute_result"
    }
   ],
   "source": [
    "B.transpose()"
   ]
  },
  {
   "cell_type": "code",
   "execution_count": 13,
   "id": "6621b145",
   "metadata": {},
   "outputs": [
    {
     "data": {
      "text/latex": [
       "$\\displaystyle \\left[\\begin{matrix}- i & -1\\\\1 - 2 i & 1 + i\\end{matrix}\\right]$"
      ],
      "text/plain": [
       "Matrix([\n",
       "[     -I,    -1],\n",
       "[1 - 2*I, 1 + I]])"
      ]
     },
     "execution_count": 13,
     "metadata": {},
     "output_type": "execute_result"
    }
   ],
   "source": [
    "B.adjoint()"
   ]
  },
  {
   "cell_type": "code",
   "execution_count": 15,
   "id": "0f6e3a8e",
   "metadata": {},
   "outputs": [
    {
     "data": {
      "text/latex": [
       "$\\displaystyle 11$"
      ],
      "text/plain": [
       "11"
      ]
     },
     "execution_count": 15,
     "metadata": {},
     "output_type": "execute_result"
    }
   ],
   "source": [
    "A.det()"
   ]
  },
  {
   "cell_type": "code",
   "execution_count": 16,
   "id": "c1b506b2",
   "metadata": {},
   "outputs": [
    {
     "data": {
      "text/latex": [
       "$\\displaystyle \\left[\\begin{matrix}- \\frac{16}{11} & \\frac{9}{11} & \\frac{2}{11}\\\\3 & -2 & 0\\\\\\frac{19}{11} & - \\frac{10}{11} & - \\frac{1}{11}\\end{matrix}\\right]$"
      ],
      "text/plain": [
       "Matrix([\n",
       "[-16/11,   9/11,  2/11],\n",
       "[     3,     -2,     0],\n",
       "[ 19/11, -10/11, -1/11]])"
      ]
     },
     "execution_count": 16,
     "metadata": {},
     "output_type": "execute_result"
    }
   ],
   "source": [
    "A.inv()"
   ]
  },
  {
   "cell_type": "code",
   "execution_count": 18,
   "id": "24755900",
   "metadata": {},
   "outputs": [
    {
     "data": {
      "text/latex": [
       "$\\displaystyle 5$"
      ],
      "text/plain": [
       "5"
      ]
     },
     "execution_count": 18,
     "metadata": {},
     "output_type": "execute_result"
    }
   ],
   "source": [
    "A.trace()"
   ]
  },
  {
   "cell_type": "code",
   "execution_count": 19,
   "id": "0d8b211c",
   "metadata": {},
   "outputs": [
    {
     "data": {
      "text/plain": [
       "{5/3 + 142/(9*(1151/27 + sqrt(170943)*I/9)**(1/3)) + (1151/27 + sqrt(170943)*I/9)**(1/3): 1,\n",
       " 5/3 + 142/(9*(-1/2 + sqrt(3)*I/2)*(1151/27 + sqrt(170943)*I/9)**(1/3)) + (-1/2 + sqrt(3)*I/2)*(1151/27 + sqrt(170943)*I/9)**(1/3): 1,\n",
       " 5/3 + (-1/2 - sqrt(3)*I/2)*(1151/27 + sqrt(170943)*I/9)**(1/3) + 142/(9*(-1/2 - sqrt(3)*I/2)*(1151/27 + sqrt(170943)*I/9)**(1/3)): 1}"
      ]
     },
     "execution_count": 19,
     "metadata": {},
     "output_type": "execute_result"
    }
   ],
   "source": [
    "A.eigenvals()"
   ]
  },
  {
   "cell_type": "code",
   "execution_count": 26,
   "id": "b2c71c8a",
   "metadata": {},
   "outputs": [
    {
     "data": {
      "text/latex": [
       "$\\displaystyle \\left[\\begin{matrix}2 & 2 & 0\\\\2 & 1 & 1\\\\-7 & 2 & -3\\end{matrix}\\right]$"
      ],
      "text/plain": [
       "Matrix([\n",
       "[ 2, 2,  0],\n",
       "[ 2, 1,  1],\n",
       "[-7, 2, -3]])"
      ]
     },
     "execution_count": 26,
     "metadata": {},
     "output_type": "execute_result"
    }
   ],
   "source": [
    "A=sy.Matrix([[2,2,0],[2,1,1],[-7,2,-3]])\n",
    "A"
   ]
  },
  {
   "cell_type": "code",
   "execution_count": 27,
   "id": "53d8290a",
   "metadata": {},
   "outputs": [
    {
     "data": {
      "text/plain": [
       "{3: 1, 1: 1, -4: 1}"
      ]
     },
     "execution_count": 27,
     "metadata": {},
     "output_type": "execute_result"
    }
   ],
   "source": [
    "A.eigenvals()"
   ]
  },
  {
   "cell_type": "code",
   "execution_count": 28,
   "id": "fbde3f05",
   "metadata": {},
   "outputs": [
    {
     "data": {
      "text/latex": [
       "$\\displaystyle \\left[\\begin{matrix}c & 0 & 0\\\\0 & c & 0\\\\0 & 0 & c\\end{matrix}\\right]$"
      ],
      "text/plain": [
       "Matrix([\n",
       "[c, 0, 0],\n",
       "[0, c, 0],\n",
       "[0, 0, c]])"
      ]
     },
     "execution_count": 28,
     "metadata": {},
     "output_type": "execute_result"
    }
   ],
   "source": [
    "c=sy.Symbol('c')\n",
    "I=c*sy.eye(3)\n",
    "I"
   ]
  },
  {
   "cell_type": "code",
   "execution_count": 30,
   "id": "0e012b7e",
   "metadata": {},
   "outputs": [
    {
     "data": {
      "text/latex": [
       "$\\displaystyle \\left[\\begin{matrix}2 - c & 2 & 0\\\\2 & 1 - c & 1\\\\-7 & 2 & - c - 3\\end{matrix}\\right]$"
      ],
      "text/plain": [
       "Matrix([\n",
       "[2 - c,     2,      0],\n",
       "[    2, 1 - c,      1],\n",
       "[   -7,     2, -c - 3]])"
      ]
     },
     "execution_count": 30,
     "metadata": {},
     "output_type": "execute_result"
    }
   ],
   "source": [
    "B=A-I\n",
    "B"
   ]
  },
  {
   "cell_type": "code",
   "execution_count": 32,
   "id": "b4d03989",
   "metadata": {},
   "outputs": [
    {
     "data": {
      "text/latex": [
       "$\\displaystyle \\left[\\begin{matrix}2 - c & 2 & 0\\\\2 & 1 - c & 1\\\\-7 & 2 & - c - 3\\end{matrix}\\right]$"
      ],
      "text/plain": [
       "Matrix([\n",
       "[2 - c,     2,      0],\n",
       "[    2, 1 - c,      1],\n",
       "[   -7,     2, -c - 3]])"
      ]
     },
     "execution_count": 32,
     "metadata": {},
     "output_type": "execute_result"
    }
   ],
   "source": [
    "B=A-c*sy.eye(3)\n",
    "B"
   ]
  },
  {
   "cell_type": "code",
   "execution_count": 35,
   "id": "5865c719",
   "metadata": {},
   "outputs": [
    {
     "data": {
      "text/latex": [
       "$\\displaystyle - c^{3} + 13 c - 12$"
      ],
      "text/plain": [
       "-c**3 + 13*c - 12"
      ]
     },
     "execution_count": 35,
     "metadata": {},
     "output_type": "execute_result"
    }
   ],
   "source": [
    "p=B.det()\n",
    "p"
   ]
  },
  {
   "cell_type": "code",
   "execution_count": 38,
   "id": "f419181f",
   "metadata": {},
   "outputs": [
    {
     "data": {
      "text/plain": [
       "[-4, 1, 3]"
      ]
     },
     "execution_count": 38,
     "metadata": {},
     "output_type": "execute_result"
    }
   ],
   "source": [
    "sy.solve(p)"
   ]
  },
  {
   "cell_type": "code",
   "execution_count": 39,
   "id": "c92153bb",
   "metadata": {},
   "outputs": [
    {
     "data": {
      "text/plain": [
       "{3: 1, 1: 1, -4: 1}"
      ]
     },
     "execution_count": 39,
     "metadata": {},
     "output_type": "execute_result"
    }
   ],
   "source": [
    "A.eigenvals()"
   ]
  },
  {
   "cell_type": "code",
   "execution_count": 40,
   "id": "caa2270b",
   "metadata": {},
   "outputs": [
    {
     "data": {
      "text/plain": [
       "[(-4,\n",
       "  1,\n",
       "  [Matrix([\n",
       "   [ 1/13],\n",
       "   [-3/13],\n",
       "   [    1]])]),\n",
       " (1,\n",
       "  1,\n",
       "  [Matrix([\n",
       "   [-1/2],\n",
       "   [ 1/4],\n",
       "   [   1]])]),\n",
       " (3,\n",
       "  1,\n",
       "  [Matrix([\n",
       "   [  -1],\n",
       "   [-1/2],\n",
       "   [   1]])])]"
      ]
     },
     "execution_count": 40,
     "metadata": {},
     "output_type": "execute_result"
    }
   ],
   "source": [
    "A.eigenvects()"
   ]
  },
  {
   "cell_type": "code",
   "execution_count": null,
   "id": "c0fee5ba",
   "metadata": {},
   "outputs": [],
   "source": []
  }
 ],
 "metadata": {
  "kernelspec": {
   "display_name": "Python 3 (ipykernel)",
   "language": "python",
   "name": "python3"
  },
  "language_info": {
   "codemirror_mode": {
    "name": "ipython",
    "version": 3
   },
   "file_extension": ".py",
   "mimetype": "text/x-python",
   "name": "python",
   "nbconvert_exporter": "python",
   "pygments_lexer": "ipython3",
   "version": "3.10.9"
  }
 },
 "nbformat": 4,
 "nbformat_minor": 5
}
