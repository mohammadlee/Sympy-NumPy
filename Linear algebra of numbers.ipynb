{
 "cells": [
  {
   "cell_type": "code",
   "execution_count": 1,
   "id": "744eb173",
   "metadata": {},
   "outputs": [],
   "source": [
    "import numpy as np\n",
    "import sympy as sy"
   ]
  },
  {
   "cell_type": "code",
   "execution_count": 2,
   "id": "27fcee71",
   "metadata": {},
   "outputs": [
    {
     "data": {
      "text/latex": [
       "$\\displaystyle \\left[\\begin{matrix}-1 & 3 & 5\\\\2 & -1 & 7\\\\-1 & 7 & 3\\end{matrix}\\right]$"
      ],
      "text/plain": [
       "Matrix([\n",
       "[-1,  3, 5],\n",
       "[ 2, -1, 7],\n",
       "[-1,  7, 3]])"
      ]
     },
     "execution_count": 2,
     "metadata": {},
     "output_type": "execute_result"
    }
   ],
   "source": [
    "A=sy.Matrix([[-1,3,5],[2,-1,7],[-1,7,3]])\n",
    "A"
   ]
  },
  {
   "cell_type": "code",
   "execution_count": 3,
   "id": "c2ff0373",
   "metadata": {},
   "outputs": [
    {
     "data": {
      "text/latex": [
       "$\\displaystyle \\left[\\begin{matrix}-4 & - \\frac{\\sqrt{101}}{5} - \\frac{6}{5} & - \\frac{6}{5} + \\frac{\\sqrt{101}}{5}\\\\-25 & - \\frac{\\sqrt{101}}{10} - \\frac{1}{10} & - \\frac{1}{10} + \\frac{\\sqrt{101}}{10}\\\\19 & 1 & 1\\end{matrix}\\right]$"
      ],
      "text/plain": [
       "Matrix([\n",
       "[ -4,   -sqrt(101)/5 - 6/5,   -6/5 + sqrt(101)/5],\n",
       "[-25, -sqrt(101)/10 - 1/10, -1/10 + sqrt(101)/10],\n",
       "[ 19,                    1,                    1]])"
      ]
     },
     "execution_count": 3,
     "metadata": {},
     "output_type": "execute_result"
    }
   ],
   "source": [
    "P,D=A.diagonalize()\n",
    "P"
   ]
  },
  {
   "cell_type": "code",
   "execution_count": 4,
   "id": "39558703",
   "metadata": {},
   "outputs": [
    {
     "data": {
      "text/latex": [
       "$\\displaystyle \\left[\\begin{matrix}-6 & 0 & 0\\\\0 & \\frac{7}{2} - \\frac{\\sqrt{101}}{2} & 0\\\\0 & 0 & \\frac{7}{2} + \\frac{\\sqrt{101}}{2}\\end{matrix}\\right]$"
      ],
      "text/plain": [
       "Matrix([\n",
       "[-6,                 0,                 0],\n",
       "[ 0, 7/2 - sqrt(101)/2,                 0],\n",
       "[ 0,                 0, 7/2 + sqrt(101)/2]])"
      ]
     },
     "execution_count": 4,
     "metadata": {},
     "output_type": "execute_result"
    }
   ],
   "source": [
    "D"
   ]
  },
  {
   "cell_type": "code",
   "execution_count": 5,
   "id": "6f5e5ae0",
   "metadata": {},
   "outputs": [
    {
     "data": {
      "text/latex": [
       "$\\displaystyle \\left[\\begin{matrix}\\frac{\\left(\\frac{7}{2} - \\frac{\\sqrt{101}}{2}\\right) \\left(- 125 \\sqrt{101} - 1205\\right) \\left(- \\frac{\\sqrt{101}}{5} - \\frac{6}{5}\\right)}{296 \\sqrt{101} + 4646} + \\left(- \\frac{6}{5} + \\frac{\\sqrt{101}}{5}\\right) \\left(- \\frac{19}{130} + \\frac{231 \\sqrt{101}}{13130}\\right) \\left(\\frac{7}{2} + \\frac{\\sqrt{101}}{2}\\right) + \\frac{24}{65} & - \\frac{48}{65} + \\frac{\\left(\\frac{7}{2} - \\frac{\\sqrt{101}}{2}\\right) \\left(- \\frac{\\sqrt{101}}{5} - \\frac{6}{5}\\right) \\left(10 \\sqrt{101} + 465\\right)}{148 \\sqrt{101} + 2323} + \\left(- \\frac{6}{5} + \\frac{\\sqrt{101}}{5}\\right) \\left(\\frac{7}{2} + \\frac{\\sqrt{101}}{2}\\right) \\left(\\frac{94 \\sqrt{101}}{6565} + \\frac{19}{65}\\right) & \\frac{24}{65} - \\frac{5044 \\cdot \\left(\\frac{7}{2} - \\frac{\\sqrt{101}}{2}\\right) \\left(- \\frac{\\sqrt{101}}{5} - \\frac{6}{5}\\right)}{- \\frac{120796}{5} - \\frac{7696 \\sqrt{101}}{5}} + \\left(- \\frac{6}{5} + \\frac{\\sqrt{101}}{5}\\right) \\left(\\frac{7}{2} + \\frac{\\sqrt{101}}{2}\\right) \\left(\\frac{148 \\sqrt{101}}{6565} + \\frac{23}{65}\\right)\\\\\\frac{\\left(\\frac{7}{2} - \\frac{\\sqrt{101}}{2}\\right) \\left(- 125 \\sqrt{101} - 1205\\right) \\left(- \\frac{\\sqrt{101}}{10} - \\frac{1}{10}\\right)}{296 \\sqrt{101} + 4646} + \\left(- \\frac{19}{130} + \\frac{231 \\sqrt{101}}{13130}\\right) \\left(- \\frac{1}{10} + \\frac{\\sqrt{101}}{10}\\right) \\left(\\frac{7}{2} + \\frac{\\sqrt{101}}{2}\\right) + \\frac{30}{13} & - \\frac{60}{13} + \\frac{\\left(\\frac{7}{2} - \\frac{\\sqrt{101}}{2}\\right) \\left(- \\frac{\\sqrt{101}}{10} - \\frac{1}{10}\\right) \\left(10 \\sqrt{101} + 465\\right)}{148 \\sqrt{101} + 2323} + \\left(- \\frac{1}{10} + \\frac{\\sqrt{101}}{10}\\right) \\left(\\frac{7}{2} + \\frac{\\sqrt{101}}{2}\\right) \\left(\\frac{94 \\sqrt{101}}{6565} + \\frac{19}{65}\\right) & - \\frac{5044 \\cdot \\left(\\frac{7}{2} - \\frac{\\sqrt{101}}{2}\\right) \\left(- \\frac{\\sqrt{101}}{10} - \\frac{1}{10}\\right)}{- \\frac{120796}{5} - \\frac{7696 \\sqrt{101}}{5}} + \\frac{30}{13} + \\left(- \\frac{1}{10} + \\frac{\\sqrt{101}}{10}\\right) \\left(\\frac{7}{2} + \\frac{\\sqrt{101}}{2}\\right) \\left(\\frac{148 \\sqrt{101}}{6565} + \\frac{23}{65}\\right)\\\\- \\frac{114}{65} + \\left(- \\frac{19}{130} + \\frac{231 \\sqrt{101}}{13130}\\right) \\left(\\frac{7}{2} + \\frac{\\sqrt{101}}{2}\\right) + \\frac{\\left(\\frac{7}{2} - \\frac{\\sqrt{101}}{2}\\right) \\left(- 125 \\sqrt{101} - 1205\\right)}{296 \\sqrt{101} + 4646} & \\frac{\\left(\\frac{7}{2} - \\frac{\\sqrt{101}}{2}\\right) \\left(10 \\sqrt{101} + 465\\right)}{148 \\sqrt{101} + 2323} + \\frac{228}{65} + \\left(\\frac{7}{2} + \\frac{\\sqrt{101}}{2}\\right) \\left(\\frac{94 \\sqrt{101}}{6565} + \\frac{19}{65}\\right) & - \\frac{114}{65} - \\frac{5044 \\cdot \\left(\\frac{7}{2} - \\frac{\\sqrt{101}}{2}\\right)}{- \\frac{120796}{5} - \\frac{7696 \\sqrt{101}}{5}} + \\left(\\frac{7}{2} + \\frac{\\sqrt{101}}{2}\\right) \\left(\\frac{148 \\sqrt{101}}{6565} + \\frac{23}{65}\\right)\\end{matrix}\\right]$"
      ],
      "text/plain": [
       "Matrix([\n",
       "[    (7/2 - sqrt(101)/2)*(-125*sqrt(101) - 1205)*(-sqrt(101)/5 - 6/5)/(296*sqrt(101) + 4646) + (-6/5 + sqrt(101)/5)*(-19/130 + 231*sqrt(101)/13130)*(7/2 + sqrt(101)/2) + 24/65,     -48/65 + (7/2 - sqrt(101)/2)*(-sqrt(101)/5 - 6/5)*(10*sqrt(101) + 465)/(148*sqrt(101) + 2323) + (-6/5 + sqrt(101)/5)*(7/2 + sqrt(101)/2)*(94*sqrt(101)/6565 + 19/65),      24/65 - 5044*(7/2 - sqrt(101)/2)*(-sqrt(101)/5 - 6/5)/(-120796/5 - 7696*sqrt(101)/5) + (-6/5 + sqrt(101)/5)*(7/2 + sqrt(101)/2)*(148*sqrt(101)/6565 + 23/65)],\n",
       "[(7/2 - sqrt(101)/2)*(-125*sqrt(101) - 1205)*(-sqrt(101)/10 - 1/10)/(296*sqrt(101) + 4646) + (-19/130 + 231*sqrt(101)/13130)*(-1/10 + sqrt(101)/10)*(7/2 + sqrt(101)/2) + 30/13, -60/13 + (7/2 - sqrt(101)/2)*(-sqrt(101)/10 - 1/10)*(10*sqrt(101) + 465)/(148*sqrt(101) + 2323) + (-1/10 + sqrt(101)/10)*(7/2 + sqrt(101)/2)*(94*sqrt(101)/6565 + 19/65), -5044*(7/2 - sqrt(101)/2)*(-sqrt(101)/10 - 1/10)/(-120796/5 - 7696*sqrt(101)/5) + 30/13 + (-1/10 + sqrt(101)/10)*(7/2 + sqrt(101)/2)*(148*sqrt(101)/6565 + 23/65)],\n",
       "[                                            -114/65 + (-19/130 + 231*sqrt(101)/13130)*(7/2 + sqrt(101)/2) + (7/2 - sqrt(101)/2)*(-125*sqrt(101) - 1205)/(296*sqrt(101) + 4646),                                               (7/2 - sqrt(101)/2)*(10*sqrt(101) + 465)/(148*sqrt(101) + 2323) + 228/65 + (7/2 + sqrt(101)/2)*(94*sqrt(101)/6565 + 19/65),                                              -114/65 - 5044*(7/2 - sqrt(101)/2)/(-120796/5 - 7696*sqrt(101)/5) + (7/2 + sqrt(101)/2)*(148*sqrt(101)/6565 + 23/65)]])"
      ]
     },
     "execution_count": 5,
     "metadata": {},
     "output_type": "execute_result"
    }
   ],
   "source": [
    "P*D*P.inv()"
   ]
  },
  {
   "cell_type": "code",
   "execution_count": 10,
   "id": "b274d571",
   "metadata": {},
   "outputs": [
    {
     "data": {
      "text/latex": [
       "$\\displaystyle \\left[\\begin{matrix}-1.0 & 3.0 & 5.0\\\\2.0 & -1.0 & 7.0\\\\-1.0 & 7.0 & 3.0\\end{matrix}\\right]$"
      ],
      "text/plain": [
       "Matrix([\n",
       "[-1.0,  3.0, 5.0],\n",
       "[ 2.0, -1.0, 7.0],\n",
       "[-1.0,  7.0, 3.0]])"
      ]
     },
     "execution_count": 10,
     "metadata": {},
     "output_type": "execute_result"
    }
   ],
   "source": [
    "(P*D*P.inv()).evalf()"
   ]
  },
  {
   "cell_type": "code",
   "execution_count": 11,
   "id": "acc8b145",
   "metadata": {},
   "outputs": [
    {
     "data": {
      "text/latex": [
       "$\\displaystyle \\left[\\begin{matrix}-1 & 3 & 5\\\\2 & -1 & 7\\\\-1 & 7 & 3\\end{matrix}\\right]$"
      ],
      "text/plain": [
       "Matrix([\n",
       "[-1,  3, 5],\n",
       "[ 2, -1, 7],\n",
       "[-1,  7, 3]])"
      ]
     },
     "execution_count": 11,
     "metadata": {},
     "output_type": "execute_result"
    }
   ],
   "source": [
    "A"
   ]
  },
  {
   "cell_type": "code",
   "execution_count": 12,
   "id": "aabfd707",
   "metadata": {},
   "outputs": [
    {
     "data": {
      "text/latex": [
       "$\\displaystyle 2 \\sqrt{37}$"
      ],
      "text/plain": [
       "2*sqrt(37)"
      ]
     },
     "execution_count": 12,
     "metadata": {},
     "output_type": "execute_result"
    }
   ],
   "source": [
    "A.norm()"
   ]
  },
  {
   "cell_type": "code",
   "execution_count": 13,
   "id": "91ca575d",
   "metadata": {},
   "outputs": [
    {
     "data": {
      "text/plain": [
       "3"
      ]
     },
     "execution_count": 13,
     "metadata": {},
     "output_type": "execute_result"
    }
   ],
   "source": [
    "A.rank()"
   ]
  },
  {
   "cell_type": "code",
   "execution_count": 17,
   "id": "51df0a59",
   "metadata": {},
   "outputs": [
    {
     "data": {
      "text/latex": [
       "$\\displaystyle \\left[\\begin{matrix}2 & 1 & 4 & 1 & 0 & 9 & 9 & 3 & 9 & 9\\\\2 & 6 & 3 & 9 & 6 & 6 & 6 & 4 & 5 & 9\\\\0 & 1 & 3 & 6 & 3 & 8 & 10 & 10 & 7 & 5\\\\3 & 4 & 2 & 6 & 10 & 8 & 10 & 1 & 8 & 9\\\\3 & 6 & 3 & 0 & 7 & 10 & 3 & 2 & 8 & 2\\\\9 & 9 & 6 & 10 & 5 & 0 & 3 & 3 & 8 & 1\\\\7 & 2 & 7 & 1 & 1 & 8 & 8 & 10 & 7 & 1\\\\10 & 6 & 5 & 9 & 3 & 3 & 7 & 8 & 1 & 3\\\\3 & 8 & 8 & 7 & 3 & 0 & 10 & 8 & 2 & 3\\\\9 & 7 & 9 & 9 & 9 & 3 & 5 & 9 & 7 & 1\\end{matrix}\\right]$"
      ],
      "text/plain": [
       "Matrix([\n",
       "[ 2, 1, 4,  1,  0,  9,  9,  3, 9, 9],\n",
       "[ 2, 6, 3,  9,  6,  6,  6,  4, 5, 9],\n",
       "[ 0, 1, 3,  6,  3,  8, 10, 10, 7, 5],\n",
       "[ 3, 4, 2,  6, 10,  8, 10,  1, 8, 9],\n",
       "[ 3, 6, 3,  0,  7, 10,  3,  2, 8, 2],\n",
       "[ 9, 9, 6, 10,  5,  0,  3,  3, 8, 1],\n",
       "[ 7, 2, 7,  1,  1,  8,  8, 10, 7, 1],\n",
       "[10, 6, 5,  9,  3,  3,  7,  8, 1, 3],\n",
       "[ 3, 8, 8,  7,  3,  0, 10,  8, 2, 3],\n",
       "[ 9, 7, 9,  9,  9,  3,  5,  9, 7, 1]])"
      ]
     },
     "execution_count": 17,
     "metadata": {},
     "output_type": "execute_result"
    }
   ],
   "source": [
    "A=sy.randMatrix(10,10,0,10)\n",
    "A"
   ]
  },
  {
   "cell_type": "code",
   "execution_count": 18,
   "id": "b3cb4d1d",
   "metadata": {},
   "outputs": [
    {
     "data": {
      "text/plain": [
       "10"
      ]
     },
     "execution_count": 18,
     "metadata": {},
     "output_type": "execute_result"
    }
   ],
   "source": [
    "A.rank()"
   ]
  },
  {
   "cell_type": "code",
   "execution_count": 19,
   "id": "40a5e8f2",
   "metadata": {},
   "outputs": [
    {
     "data": {
      "text/latex": [
       "$\\displaystyle 2 \\sqrt{987}$"
      ],
      "text/plain": [
       "2*sqrt(987)"
      ]
     },
     "execution_count": 19,
     "metadata": {},
     "output_type": "execute_result"
    }
   ],
   "source": [
    "A.norm()"
   ]
  },
  {
   "cell_type": "code",
   "execution_count": 20,
   "id": "8a89279c",
   "metadata": {},
   "outputs": [
    {
     "data": {
      "text/plain": [
       "[sqrt(CRootOf(lambda**10 - 3948*lambda**9 + 3059234*lambda**8 - 945257220*lambda**7 + 140596632350*lambda**6 - 10801363380802*lambda**5 + 447192719123948*lambda**4 - 9887014033283928*lambda**3 + 106819576620139141*lambda**2 - 423898609959562851*lambda + 2102305305915409, 9)),\n",
       " sqrt(CRootOf(lambda**10 - 3948*lambda**9 + 3059234*lambda**8 - 945257220*lambda**7 + 140596632350*lambda**6 - 10801363380802*lambda**5 + 447192719123948*lambda**4 - 9887014033283928*lambda**3 + 106819576620139141*lambda**2 - 423898609959562851*lambda + 2102305305915409, 8)),\n",
       " sqrt(CRootOf(lambda**10 - 3948*lambda**9 + 3059234*lambda**8 - 945257220*lambda**7 + 140596632350*lambda**6 - 10801363380802*lambda**5 + 447192719123948*lambda**4 - 9887014033283928*lambda**3 + 106819576620139141*lambda**2 - 423898609959562851*lambda + 2102305305915409, 7)),\n",
       " sqrt(CRootOf(lambda**10 - 3948*lambda**9 + 3059234*lambda**8 - 945257220*lambda**7 + 140596632350*lambda**6 - 10801363380802*lambda**5 + 447192719123948*lambda**4 - 9887014033283928*lambda**3 + 106819576620139141*lambda**2 - 423898609959562851*lambda + 2102305305915409, 6)),\n",
       " sqrt(CRootOf(lambda**10 - 3948*lambda**9 + 3059234*lambda**8 - 945257220*lambda**7 + 140596632350*lambda**6 - 10801363380802*lambda**5 + 447192719123948*lambda**4 - 9887014033283928*lambda**3 + 106819576620139141*lambda**2 - 423898609959562851*lambda + 2102305305915409, 5)),\n",
       " sqrt(CRootOf(lambda**10 - 3948*lambda**9 + 3059234*lambda**8 - 945257220*lambda**7 + 140596632350*lambda**6 - 10801363380802*lambda**5 + 447192719123948*lambda**4 - 9887014033283928*lambda**3 + 106819576620139141*lambda**2 - 423898609959562851*lambda + 2102305305915409, 4)),\n",
       " sqrt(CRootOf(lambda**10 - 3948*lambda**9 + 3059234*lambda**8 - 945257220*lambda**7 + 140596632350*lambda**6 - 10801363380802*lambda**5 + 447192719123948*lambda**4 - 9887014033283928*lambda**3 + 106819576620139141*lambda**2 - 423898609959562851*lambda + 2102305305915409, 3)),\n",
       " sqrt(CRootOf(lambda**10 - 3948*lambda**9 + 3059234*lambda**8 - 945257220*lambda**7 + 140596632350*lambda**6 - 10801363380802*lambda**5 + 447192719123948*lambda**4 - 9887014033283928*lambda**3 + 106819576620139141*lambda**2 - 423898609959562851*lambda + 2102305305915409, 2)),\n",
       " sqrt(CRootOf(lambda**10 - 3948*lambda**9 + 3059234*lambda**8 - 945257220*lambda**7 + 140596632350*lambda**6 - 10801363380802*lambda**5 + 447192719123948*lambda**4 - 9887014033283928*lambda**3 + 106819576620139141*lambda**2 - 423898609959562851*lambda + 2102305305915409, 1)),\n",
       " sqrt(CRootOf(lambda**10 - 3948*lambda**9 + 3059234*lambda**8 - 945257220*lambda**7 + 140596632350*lambda**6 - 10801363380802*lambda**5 + 447192719123948*lambda**4 - 9887014033283928*lambda**3 + 106819576620139141*lambda**2 - 423898609959562851*lambda + 2102305305915409, 0))]"
      ]
     },
     "execution_count": 20,
     "metadata": {},
     "output_type": "execute_result"
    }
   ],
   "source": [
    "A.singular_values()"
   ]
  },
  {
   "cell_type": "code",
   "execution_count": 21,
   "id": "f4e71163",
   "metadata": {},
   "outputs": [
    {
     "data": {
      "text/plain": [
       "{CRootOf(lambda**10 - 43*lambda**9 - 628*lambda**8 + 1763*lambda**7 - 22118*lambda**6 + 607321*lambda**5 + 2583282*lambda**4 + 23986890*lambda**3 + 103771475*lambda**2 + 184621518*lambda + 45850903, 0): 1,\n",
       " CRootOf(lambda**10 - 43*lambda**9 - 628*lambda**8 + 1763*lambda**7 - 22118*lambda**6 + 607321*lambda**5 + 2583282*lambda**4 + 23986890*lambda**3 + 103771475*lambda**2 + 184621518*lambda + 45850903, 1): 1,\n",
       " CRootOf(lambda**10 - 43*lambda**9 - 628*lambda**8 + 1763*lambda**7 - 22118*lambda**6 + 607321*lambda**5 + 2583282*lambda**4 + 23986890*lambda**3 + 103771475*lambda**2 + 184621518*lambda + 45850903, 2): 1,\n",
       " CRootOf(lambda**10 - 43*lambda**9 - 628*lambda**8 + 1763*lambda**7 - 22118*lambda**6 + 607321*lambda**5 + 2583282*lambda**4 + 23986890*lambda**3 + 103771475*lambda**2 + 184621518*lambda + 45850903, 3): 1,\n",
       " CRootOf(lambda**10 - 43*lambda**9 - 628*lambda**8 + 1763*lambda**7 - 22118*lambda**6 + 607321*lambda**5 + 2583282*lambda**4 + 23986890*lambda**3 + 103771475*lambda**2 + 184621518*lambda + 45850903, 4): 1,\n",
       " CRootOf(lambda**10 - 43*lambda**9 - 628*lambda**8 + 1763*lambda**7 - 22118*lambda**6 + 607321*lambda**5 + 2583282*lambda**4 + 23986890*lambda**3 + 103771475*lambda**2 + 184621518*lambda + 45850903, 5): 1,\n",
       " CRootOf(lambda**10 - 43*lambda**9 - 628*lambda**8 + 1763*lambda**7 - 22118*lambda**6 + 607321*lambda**5 + 2583282*lambda**4 + 23986890*lambda**3 + 103771475*lambda**2 + 184621518*lambda + 45850903, 6): 1,\n",
       " CRootOf(lambda**10 - 43*lambda**9 - 628*lambda**8 + 1763*lambda**7 - 22118*lambda**6 + 607321*lambda**5 + 2583282*lambda**4 + 23986890*lambda**3 + 103771475*lambda**2 + 184621518*lambda + 45850903, 7): 1,\n",
       " CRootOf(lambda**10 - 43*lambda**9 - 628*lambda**8 + 1763*lambda**7 - 22118*lambda**6 + 607321*lambda**5 + 2583282*lambda**4 + 23986890*lambda**3 + 103771475*lambda**2 + 184621518*lambda + 45850903, 8): 1,\n",
       " CRootOf(lambda**10 - 43*lambda**9 - 628*lambda**8 + 1763*lambda**7 - 22118*lambda**6 + 607321*lambda**5 + 2583282*lambda**4 + 23986890*lambda**3 + 103771475*lambda**2 + 184621518*lambda + 45850903, 9): 1}"
      ]
     },
     "execution_count": 21,
     "metadata": {},
     "output_type": "execute_result"
    }
   ],
   "source": [
    "A.eigenvals()"
   ]
  },
  {
   "cell_type": "code",
   "execution_count": 23,
   "id": "fd9eef27",
   "metadata": {},
   "outputs": [
    {
     "data": {
      "text/latex": [
       "$\\displaystyle \\left[\\begin{matrix}0 & 0 & 0 & 1 & 0\\\\0 & 0 & 0 & 0 & 0\\\\0 & 0 & 0 & -1 & 0\\\\0 & 0 & 0 & 0 & 0\\\\0 & 0 & 0 & 0 & 0\\end{matrix}\\right]$"
      ],
      "text/plain": [
       "Matrix([\n",
       "[0, 0, 0,  1, 0],\n",
       "[0, 0, 0,  0, 0],\n",
       "[0, 0, 0, -1, 0],\n",
       "[0, 0, 0,  0, 0],\n",
       "[0, 0, 0,  0, 0]])"
      ]
     },
     "execution_count": 23,
     "metadata": {},
     "output_type": "execute_result"
    }
   ],
   "source": [
    "s=sy.SparseMatrix(5,5,{(0,3):1,(2,3):-1})\n",
    "s"
   ]
  },
  {
   "cell_type": "code",
   "execution_count": null,
   "id": "9c28847e",
   "metadata": {},
   "outputs": [],
   "source": []
  }
 ],
 "metadata": {
  "kernelspec": {
   "display_name": "Python 3 (ipykernel)",
   "language": "python",
   "name": "python3"
  },
  "language_info": {
   "codemirror_mode": {
    "name": "ipython",
    "version": 3
   },
   "file_extension": ".py",
   "mimetype": "text/x-python",
   "name": "python",
   "nbconvert_exporter": "python",
   "pygments_lexer": "ipython3",
   "version": "3.10.9"
  }
 },
 "nbformat": 4,
 "nbformat_minor": 5
}
