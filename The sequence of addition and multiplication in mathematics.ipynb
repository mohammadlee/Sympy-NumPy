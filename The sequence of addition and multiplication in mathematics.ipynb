{
 "cells": [
  {
   "cell_type": "code",
   "execution_count": 1,
   "id": "944e45cb",
   "metadata": {},
   "outputs": [],
   "source": [
    "import numpy as np \n",
    "import sympy as sy "
   ]
  },
  {
   "cell_type": "code",
   "execution_count": 2,
   "id": "230939ee",
   "metadata": {},
   "outputs": [
    {
     "data": {
      "text/latex": [
       "$\\displaystyle \\frac{1}{n}$"
      ],
      "text/plain": [
       "1/n"
      ]
     },
     "execution_count": 2,
     "metadata": {},
     "output_type": "execute_result"
    }
   ],
   "source": [
    "n=sy.Symbol('n')\n",
    "an=1/n\n",
    "an"
   ]
  },
  {
   "cell_type": "code",
   "execution_count": 4,
   "id": "1b2a31ef",
   "metadata": {},
   "outputs": [
    {
     "data": {
      "text/latex": [
       "$\\displaystyle \\sum_{n=1}^{100} \\frac{1}{n}$"
      ],
      "text/plain": [
       "Sum(1/n, (n, 1, 100))"
      ]
     },
     "execution_count": 4,
     "metadata": {},
     "output_type": "execute_result"
    }
   ],
   "source": [
    "sy.Sum(an,(n,1,100))"
   ]
  },
  {
   "cell_type": "code",
   "execution_count": 5,
   "id": "0dffdff7",
   "metadata": {},
   "outputs": [
    {
     "data": {
      "text/latex": [
       "$\\displaystyle 5.18737751763962$"
      ],
      "text/plain": [
       "5.18737751763962"
      ]
     },
     "execution_count": 5,
     "metadata": {},
     "output_type": "execute_result"
    }
   ],
   "source": [
    "sy.Sum(an,(n,1,100)).evalf()"
   ]
  },
  {
   "cell_type": "code",
   "execution_count": 6,
   "id": "a969ff0d",
   "metadata": {},
   "outputs": [
    {
     "data": {
      "text/latex": [
       "$\\displaystyle \\frac{1}{n^{2}}$"
      ],
      "text/plain": [
       "n**(-2)"
      ]
     },
     "execution_count": 6,
     "metadata": {},
     "output_type": "execute_result"
    }
   ],
   "source": [
    "an=1/n**2\n",
    "an"
   ]
  },
  {
   "cell_type": "code",
   "execution_count": 8,
   "id": "4ec8573d",
   "metadata": {},
   "outputs": [
    {
     "data": {
      "text/latex": [
       "$\\displaystyle \\sum_{n=1}^{1000} \\frac{1}{n^{2}}$"
      ],
      "text/plain": [
       "Sum(n**(-2), (n, 1, 1000))"
      ]
     },
     "execution_count": 8,
     "metadata": {},
     "output_type": "execute_result"
    }
   ],
   "source": [
    "s=sy.Sum(an,(n,1,1000))\n",
    "s"
   ]
  },
  {
   "cell_type": "code",
   "execution_count": 10,
   "id": "c7b00c35",
   "metadata": {},
   "outputs": [
    {
     "data": {
      "text/latex": [
       "$\\displaystyle 1.64393456668156$"
      ],
      "text/plain": [
       "1.64393456668156"
      ]
     },
     "execution_count": 10,
     "metadata": {},
     "output_type": "execute_result"
    }
   ],
   "source": [
    "s.evalf()"
   ]
  },
  {
   "cell_type": "code",
   "execution_count": 15,
   "id": "a8283e42",
   "metadata": {},
   "outputs": [
    {
     "data": {
      "text/latex": [
       "$\\displaystyle \\sum_{n=1}^{3} \\frac{e^{n}}{n!}$"
      ],
      "text/plain": [
       "Sum(exp(n)/factorial(n), (n, 1, 3))"
      ]
     },
     "execution_count": 15,
     "metadata": {},
     "output_type": "execute_result"
    }
   ],
   "source": [
    "s=sy.Sum(sy.exp(n)/sy.factorial(n),(n,1,3))\n",
    "s"
   ]
  },
  {
   "cell_type": "code",
   "execution_count": 16,
   "id": "1d8cd7f1",
   "metadata": {},
   "outputs": [
    {
     "data": {
      "text/latex": [
       "$\\displaystyle 9.76039936512231$"
      ],
      "text/plain": [
       "9.76039936512231"
      ]
     },
     "execution_count": 16,
     "metadata": {},
     "output_type": "execute_result"
    }
   ],
   "source": [
    "s.evalf()"
   ]
  },
  {
   "cell_type": "code",
   "execution_count": 21,
   "id": "749f01f4",
   "metadata": {},
   "outputs": [
    {
     "data": {
      "text/latex": [
       "$\\displaystyle \\sum_{n=0}^{\\infty} \\frac{e^{n}}{n!}$"
      ],
      "text/plain": [
       "Sum(exp(n)/factorial(n), (n, 0, oo))"
      ]
     },
     "execution_count": 21,
     "metadata": {},
     "output_type": "execute_result"
    }
   ],
   "source": [
    "s=sy.Sum(sy.exp(n)/sy.factorial(n),(n,0,sy.oo))\n",
    "s"
   ]
  },
  {
   "cell_type": "code",
   "execution_count": 22,
   "id": "6bacc05a",
   "metadata": {},
   "outputs": [
    {
     "data": {
      "text/latex": [
       "$\\displaystyle 7.38905609893065$"
      ],
      "text/plain": [
       "7.38905609893065"
      ]
     },
     "execution_count": 22,
     "metadata": {},
     "output_type": "execute_result"
    }
   ],
   "source": [
    "s.evalf()"
   ]
  },
  {
   "cell_type": "code",
   "execution_count": 23,
   "id": "d5807408",
   "metadata": {},
   "outputs": [
    {
     "data": {
      "text/latex": [
       "$\\displaystyle e^{e}$"
      ],
      "text/plain": [
       "exp(E)"
      ]
     },
     "execution_count": 23,
     "metadata": {},
     "output_type": "execute_result"
    }
   ],
   "source": [
    "s.doit()"
   ]
  },
  {
   "cell_type": "code",
   "execution_count": 28,
   "id": "2e8c87bb",
   "metadata": {},
   "outputs": [
    {
     "data": {
      "text/latex": [
       "$\\displaystyle \\prod_{n=1}^{10} n$"
      ],
      "text/plain": [
       "Product(n, (n, 1, 10))"
      ]
     },
     "execution_count": 28,
     "metadata": {},
     "output_type": "execute_result"
    }
   ],
   "source": [
    "sy.Product(n,(n,1,10))"
   ]
  },
  {
   "cell_type": "code",
   "execution_count": 29,
   "id": "46fedafe",
   "metadata": {},
   "outputs": [
    {
     "data": {
      "text/latex": [
       "$\\displaystyle 3628800$"
      ],
      "text/plain": [
       "3628800"
      ]
     },
     "execution_count": 29,
     "metadata": {},
     "output_type": "execute_result"
    }
   ],
   "source": [
    "sy.Product(n,(n,1,10)).doit()"
   ]
  },
  {
   "cell_type": "code",
   "execution_count": 33,
   "id": "4de291e0",
   "metadata": {},
   "outputs": [
    {
     "data": {
      "text/latex": [
       "$\\displaystyle \\prod_{n=0}^{\\infty} \\frac{e^{n}}{n!}$"
      ],
      "text/plain": [
       "Product(exp(n)/factorial(n), (n, 0, oo))"
      ]
     },
     "execution_count": 33,
     "metadata": {},
     "output_type": "execute_result"
    }
   ],
   "source": [
    "sy.Product(sy.exp(n)/sy.factorial(n),(n,0,sy.oo))"
   ]
  },
  {
   "cell_type": "code",
   "execution_count": 34,
   "id": "24c1ac2c",
   "metadata": {},
   "outputs": [
    {
     "data": {
      "text/latex": [
       "$\\displaystyle \\prod_{n=0}^{\\infty} \\frac{e^{n}}{n!}$"
      ],
      "text/plain": [
       "Product(exp(n)/factorial(n), (n, 0, oo))"
      ]
     },
     "execution_count": 34,
     "metadata": {},
     "output_type": "execute_result"
    }
   ],
   "source": [
    "sy.Product(sy.exp(n)/sy.factorial(n),(n,0,sy.oo)).doit()"
   ]
  },
  {
   "cell_type": "code",
   "execution_count": null,
   "id": "b7515542",
   "metadata": {},
   "outputs": [],
   "source": []
  }
 ],
 "metadata": {
  "kernelspec": {
   "display_name": "Python 3 (ipykernel)",
   "language": "python",
   "name": "python3"
  },
  "language_info": {
   "codemirror_mode": {
    "name": "ipython",
    "version": 3
   },
   "file_extension": ".py",
   "mimetype": "text/x-python",
   "name": "python",
   "nbconvert_exporter": "python",
   "pygments_lexer": "ipython3",
   "version": "3.10.9"
  }
 },
 "nbformat": 4,
 "nbformat_minor": 5
}
