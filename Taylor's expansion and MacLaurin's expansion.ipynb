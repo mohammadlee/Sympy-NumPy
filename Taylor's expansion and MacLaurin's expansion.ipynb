{
 "cells": [
  {
   "cell_type": "code",
   "execution_count": 1,
   "id": "af668297",
   "metadata": {},
   "outputs": [],
   "source": [
    "import numpy as np\n",
    "import sympy as sy"
   ]
  },
  {
   "cell_type": "code",
   "execution_count": 3,
   "id": "b5e26e03",
   "metadata": {},
   "outputs": [
    {
     "data": {
      "text/latex": [
       "$\\displaystyle f{\\left(x \\right)}$"
      ],
      "text/plain": [
       "f(x)"
      ]
     },
     "execution_count": 3,
     "metadata": {},
     "output_type": "execute_result"
    }
   ],
   "source": [
    "x= sy.symbols('x')\n",
    "f=sy.Function('f')(x)\n",
    "f"
   ]
  },
  {
   "cell_type": "code",
   "execution_count": 4,
   "id": "3c10bec5",
   "metadata": {},
   "outputs": [
    {
     "data": {
      "text/latex": [
       "$\\displaystyle f{\\left(0 \\right)} + x \\left. \\frac{d}{d \\xi} f{\\left(\\xi \\right)} \\right|_{\\substack{ \\xi=0 }} + \\frac{x^{2} \\left. \\frac{d^{2}}{d \\xi^{2}} f{\\left(\\xi \\right)} \\right|_{\\substack{ \\xi=0 }}}{2} + \\frac{x^{3} \\left. \\frac{d^{3}}{d \\xi^{3}} f{\\left(\\xi \\right)} \\right|_{\\substack{ \\xi=0 }}}{6} + \\frac{x^{4} \\left. \\frac{d^{4}}{d \\xi^{4}} f{\\left(\\xi \\right)} \\right|_{\\substack{ \\xi=0 }}}{24} + \\frac{x^{5} \\left. \\frac{d^{5}}{d \\xi^{5}} f{\\left(\\xi \\right)} \\right|_{\\substack{ \\xi=0 }}}{120} + O\\left(x^{6}\\right)$"
      ],
      "text/plain": [
       "f(0) + x*Subs(Derivative(f(xi), xi), xi, 0) + x**2*Subs(Derivative(f(xi), (xi, 2)), xi, 0)/2 + x**3*Subs(Derivative(f(xi), (xi, 3)), xi, 0)/6 + x**4*Subs(Derivative(f(xi), (xi, 4)), xi, 0)/24 + x**5*Subs(Derivative(f(xi), (xi, 5)), xi, 0)/120 + O(x**6)"
      ]
     },
     "execution_count": 4,
     "metadata": {},
     "output_type": "execute_result"
    }
   ],
   "source": [
    "sy.series(f,x)"
   ]
  },
  {
   "cell_type": "code",
   "execution_count": 5,
   "id": "b906f047",
   "metadata": {},
   "outputs": [
    {
     "data": {
      "text/latex": [
       "$\\displaystyle f{\\left(0 \\right)} + x \\left. \\frac{d}{d \\xi} f{\\left(\\xi \\right)} \\right|_{\\substack{ \\xi=0 }} + \\frac{x^{2} \\left. \\frac{d^{2}}{d \\xi^{2}} f{\\left(\\xi \\right)} \\right|_{\\substack{ \\xi=0 }}}{2} + O\\left(x^{3}\\right)$"
      ],
      "text/plain": [
       "f(0) + x*Subs(Derivative(f(xi), xi), xi, 0) + x**2*Subs(Derivative(f(xi), (xi, 2)), xi, 0)/2 + O(x**3)"
      ]
     },
     "execution_count": 5,
     "metadata": {},
     "output_type": "execute_result"
    }
   ],
   "source": [
    "sy.series(f,x,n=3)"
   ]
  },
  {
   "cell_type": "code",
   "execution_count": 6,
   "id": "6c0cad44",
   "metadata": {},
   "outputs": [
    {
     "data": {
      "text/latex": [
       "$\\displaystyle f{\\left(1 \\right)} + \\left(x - 1\\right) \\left. \\frac{d}{d \\xi_{1}} f{\\left(\\xi_{1} \\right)} \\right|_{\\substack{ \\xi_{1}=1 }} + \\frac{\\left(x - 1\\right)^{2} \\left. \\frac{d^{2}}{d \\xi_{1}^{2}} f{\\left(\\xi_{1} \\right)} \\right|_{\\substack{ \\xi_{1}=1 }}}{2} + O\\left(\\left(x - 1\\right)^{3}; x\\rightarrow 1\\right)$"
      ],
      "text/plain": [
       "f(1) + (x - 1)*Subs(Derivative(f(_xi_1), _xi_1), _xi_1, 1) + (x - 1)**2*Subs(Derivative(f(_xi_1), (_xi_1, 2)), _xi_1, 1)/2 + O((x - 1)**3, (x, 1))"
      ]
     },
     "execution_count": 6,
     "metadata": {},
     "output_type": "execute_result"
    }
   ],
   "source": [
    "sy.series(f,x,1,n=3)"
   ]
  },
  {
   "cell_type": "code",
   "execution_count": 8,
   "id": "8e53d930",
   "metadata": {},
   "outputs": [
    {
     "data": {
      "text/latex": [
       "$\\displaystyle {x_0}$"
      ],
      "text/plain": [
       "{x_0}"
      ]
     },
     "execution_count": 8,
     "metadata": {},
     "output_type": "execute_result"
    }
   ],
   "source": [
    "x0=sy.symbols(\"{x_0}\")\n",
    "x0"
   ]
  },
  {
   "cell_type": "code",
   "execution_count": 9,
   "id": "62f19b2a",
   "metadata": {},
   "outputs": [
    {
     "data": {
      "text/latex": [
       "$\\displaystyle f{\\left({x_0} \\right)} + \\left(x - {x_0}\\right) \\left. \\frac{d}{d \\xi_{1}} f{\\left(\\xi_{1} \\right)} \\right|_{\\substack{ \\xi_{1}={x_0} }} + \\frac{\\left(x - {x_0}\\right)^{2} \\left. \\frac{d^{2}}{d \\xi_{1}^{2}} f{\\left(\\xi_{1} \\right)} \\right|_{\\substack{ \\xi_{1}={x_0} }}}{2} + O\\left(\\left(x - {x_0}\\right)^{3}; x\\rightarrow {x_0}\\right)$"
      ],
      "text/plain": [
       "f({x_0}) + (x - {x_0})*Subs(Derivative(f(_xi_1), _xi_1), _xi_1, {x_0}) + (x - {x_0})**2*Subs(Derivative(f(_xi_1), (_xi_1, 2)), _xi_1, {x_0})/2 + O((x - {x_0})**3, (x, {x_0}))"
      ]
     },
     "execution_count": 9,
     "metadata": {},
     "output_type": "execute_result"
    }
   ],
   "source": [
    "sy.series(f,x,x0,n=3)"
   ]
  },
  {
   "cell_type": "code",
   "execution_count": 10,
   "id": "34645c6d",
   "metadata": {},
   "outputs": [
    {
     "data": {
      "text/latex": [
       "$\\displaystyle \\sin{\\left(x \\right)}$"
      ],
      "text/plain": [
       "sin(x)"
      ]
     },
     "execution_count": 10,
     "metadata": {},
     "output_type": "execute_result"
    }
   ],
   "source": [
    "f=sy.sin(x)\n",
    "f"
   ]
  },
  {
   "cell_type": "code",
   "execution_count": 11,
   "id": "59781f50",
   "metadata": {},
   "outputs": [
    {
     "data": {
      "text/latex": [
       "$\\displaystyle x - \\frac{x^{3}}{6} + \\frac{x^{5}}{120} + O\\left(x^{6}\\right)$"
      ],
      "text/plain": [
       "x - x**3/6 + x**5/120 + O(x**6)"
      ]
     },
     "execution_count": 11,
     "metadata": {},
     "output_type": "execute_result"
    }
   ],
   "source": [
    "sy.series(f,x)"
   ]
  },
  {
   "cell_type": "code",
   "execution_count": 13,
   "id": "d8b0e633",
   "metadata": {},
   "outputs": [
    {
     "data": {
      "text/latex": [
       "$\\displaystyle x - \\frac{x^{3}}{6} + \\frac{x^{5}}{120} - \\frac{x^{7}}{5040} + \\frac{x^{9}}{362880} - \\frac{x^{11}}{39916800} + O\\left(x^{12}\\right)$"
      ],
      "text/plain": [
       "x - x**3/6 + x**5/120 - x**7/5040 + x**9/362880 - x**11/39916800 + O(x**12)"
      ]
     },
     "execution_count": 13,
     "metadata": {},
     "output_type": "execute_result"
    }
   ],
   "source": [
    "sy.series(f,x,n=12)"
   ]
  },
  {
   "cell_type": "code",
   "execution_count": 14,
   "id": "e91e9ef1",
   "metadata": {},
   "outputs": [
    {
     "data": {
      "text/latex": [
       "$\\displaystyle x - 0.16667 x^{3} + 0.0083333 x^{5} - 0.00019841 x^{7} + 2.7557 \\cdot 10^{-6} x^{9} - 2.5052 \\cdot 10^{-8} x^{11} + O\\left(x^{12}\\right)$"
      ],
      "text/plain": [
       "x - 0.16667*x**3 + 0.0083333*x**5 - 0.00019841*x**7 + 2.7557e-6*x**9 - 2.5052e-8*x**11 + O(x**12)"
      ]
     },
     "execution_count": 14,
     "metadata": {},
     "output_type": "execute_result"
    }
   ],
   "source": [
    "sy.series(f,x,n=12).evalf(5)"
   ]
  },
  {
   "cell_type": "code",
   "execution_count": 18,
   "id": "e2864186",
   "metadata": {},
   "outputs": [
    {
     "data": {
      "text/latex": [
       "$\\displaystyle 1 - \\frac{\\left(x - \\frac{\\pi}{2}\\right)^{2}}{2} + \\frac{\\left(x - \\frac{\\pi}{2}\\right)^{4}}{24} + O\\left(\\left(x - \\frac{\\pi}{2}\\right)^{5}; x\\rightarrow \\frac{\\pi}{2}\\right)$"
      ],
      "text/plain": [
       "1 - (x - pi/2)**2/2 + (x - pi/2)**4/24 + O((x - pi/2)**5, (x, pi/2))"
      ]
     },
     "execution_count": 18,
     "metadata": {},
     "output_type": "execute_result"
    }
   ],
   "source": [
    "sy.series(f,x,sy.pi/2,n=5)"
   ]
  },
  {
   "cell_type": "code",
   "execution_count": 19,
   "id": "781b3f43",
   "metadata": {},
   "outputs": [
    {
     "data": {
      "text/latex": [
       "$\\displaystyle 1.0 - 1.2337 \\left(0.63662 x - 1\\right)^{2} + 0.25367 \\left(0.63662 x - 1\\right)^{4} + O\\left(\\left(x - \\frac{\\pi}{2}\\right)^{5}; x\\rightarrow \\frac{\\pi}{2}\\right)$"
      ],
      "text/plain": [
       "1.0 - 1.2337*(0.63662*x - 1)**2 + 0.25367*(0.63662*x - 1)**4 + O((x - pi/2)**5, (x, pi/2))"
      ]
     },
     "execution_count": 19,
     "metadata": {},
     "output_type": "execute_result"
    }
   ],
   "source": [
    "sy.series(f,x,sy.pi/2,n=5).evalf(5)"
   ]
  },
  {
   "cell_type": "code",
   "execution_count": 20,
   "id": "4c2a8312",
   "metadata": {},
   "outputs": [
    {
     "data": {
      "text/latex": [
       "$\\displaystyle \\frac{\\left(x - \\frac{\\pi}{2}\\right)^{4}}{24} - \\frac{\\left(x - \\frac{\\pi}{2}\\right)^{2}}{2} + 1$"
      ],
      "text/plain": [
       "(x - pi/2)**4/24 - (x - pi/2)**2/2 + 1"
      ]
     },
     "execution_count": 20,
     "metadata": {},
     "output_type": "execute_result"
    }
   ],
   "source": [
    "sy.series(f,x,sy.pi/2,n=5).removeO()"
   ]
  },
  {
   "cell_type": "code",
   "execution_count": 21,
   "id": "48d7eb84",
   "metadata": {},
   "outputs": [
    {
     "data": {
      "text/latex": [
       "$\\displaystyle e^{- x}$"
      ],
      "text/plain": [
       "exp(-x)"
      ]
     },
     "execution_count": 21,
     "metadata": {},
     "output_type": "execute_result"
    }
   ],
   "source": [
    "f=sy.exp(-x)\n",
    "f"
   ]
  },
  {
   "cell_type": "code",
   "execution_count": 22,
   "id": "a4c03c6c",
   "metadata": {},
   "outputs": [
    {
     "data": {
      "text/latex": [
       "$\\displaystyle - \\frac{x^{5}}{120} + \\frac{x^{4}}{24} - \\frac{x^{3}}{6} + \\frac{x^{2}}{2} - x + 1$"
      ],
      "text/plain": [
       "-x**5/120 + x**4/24 - x**3/6 + x**2/2 - x + 1"
      ]
     },
     "execution_count": 22,
     "metadata": {},
     "output_type": "execute_result"
    }
   ],
   "source": [
    "sy.series(f,x).removeO()"
   ]
  },
  {
   "cell_type": "code",
   "execution_count": 23,
   "id": "40287e1e",
   "metadata": {},
   "outputs": [
    {
     "data": {
      "text/latex": [
       "$\\displaystyle \\frac{x^{14}}{87178291200} - \\frac{x^{13}}{6227020800} + \\frac{x^{12}}{479001600} - \\frac{x^{11}}{39916800} + \\frac{x^{10}}{3628800} - \\frac{x^{9}}{362880} + \\frac{x^{8}}{40320} - \\frac{x^{7}}{5040} + \\frac{x^{6}}{720} - \\frac{x^{5}}{120} + \\frac{x^{4}}{24} - \\frac{x^{3}}{6} + \\frac{x^{2}}{2} - x + 1$"
      ],
      "text/plain": [
       "x**14/87178291200 - x**13/6227020800 + x**12/479001600 - x**11/39916800 + x**10/3628800 - x**9/362880 + x**8/40320 - x**7/5040 + x**6/720 - x**5/120 + x**4/24 - x**3/6 + x**2/2 - x + 1"
      ]
     },
     "execution_count": 23,
     "metadata": {},
     "output_type": "execute_result"
    }
   ],
   "source": [
    "sy.series(f,x,n=15).removeO()"
   ]
  },
  {
   "cell_type": "code",
   "execution_count": 24,
   "id": "24fb2523",
   "metadata": {},
   "outputs": [
    {
     "data": {
      "text/latex": [
       "$\\displaystyle 1.1471 \\cdot 10^{-11} x^{14} - 1.6059 \\cdot 10^{-10} x^{13} + 2.0877 \\cdot 10^{-9} x^{12} - 2.5052 \\cdot 10^{-8} x^{11} + 2.7557 \\cdot 10^{-7} x^{10} - 2.7557 \\cdot 10^{-6} x^{9} + 2.4802 \\cdot 10^{-5} x^{8} - 0.00019841 x^{7} + 0.0013889 x^{6} - 0.0083333 x^{5} + 0.041667 x^{4} - 0.16667 x^{3} + 0.5 x^{2} - x + 1.0$"
      ],
      "text/plain": [
       "1.1471e-11*x**14 - 1.6059e-10*x**13 + 2.0877e-9*x**12 - 2.5052e-8*x**11 + 2.7557e-7*x**10 - 2.7557e-6*x**9 + 2.4802e-5*x**8 - 0.00019841*x**7 + 0.0013889*x**6 - 0.0083333*x**5 + 0.041667*x**4 - 0.16667*x**3 + 0.5*x**2 - x + 1.0"
      ]
     },
     "execution_count": 24,
     "metadata": {},
     "output_type": "execute_result"
    }
   ],
   "source": [
    "sy.series(f,x,n=15).removeO().evalf(5)"
   ]
  },
  {
   "cell_type": "code",
   "execution_count": 25,
   "id": "43d848cc",
   "metadata": {},
   "outputs": [
    {
     "data": {
      "text/latex": [
       "$\\displaystyle \\frac{1}{x - 1}$"
      ],
      "text/plain": [
       "1/(x - 1)"
      ]
     },
     "execution_count": 25,
     "metadata": {},
     "output_type": "execute_result"
    }
   ],
   "source": [
    "f=1/(x-1)\n",
    "f"
   ]
  },
  {
   "cell_type": "code",
   "execution_count": 27,
   "id": "d608ec7a",
   "metadata": {},
   "outputs": [
    {
     "data": {
      "text/latex": [
       "$\\displaystyle - x - \\left(x - 2\\right)^{3} + \\left(x - 2\\right)^{2} + 3$"
      ],
      "text/plain": [
       "-x - (x - 2)**3 + (x - 2)**2 + 3"
      ]
     },
     "execution_count": 27,
     "metadata": {},
     "output_type": "execute_result"
    }
   ],
   "source": [
    "sy.series(f,x,2,n=4).removeO()"
   ]
  },
  {
   "cell_type": "code",
   "execution_count": 29,
   "id": "211ba7d2",
   "metadata": {},
   "outputs": [
    {
     "data": {
      "text/latex": [
       "$\\displaystyle \\frac{\\cos{\\left(x \\right)}}{\\sin{\\left(x y \\right)} + 1}$"
      ],
      "text/plain": [
       "cos(x)/(sin(x*y) + 1)"
      ]
     },
     "execution_count": 29,
     "metadata": {},
     "output_type": "execute_result"
    }
   ],
   "source": [
    "y=sy.Symbol('y')\n",
    "g=sy.cos(x)/(1+sy.sin(x*y))\n",
    "g"
   ]
  },
  {
   "cell_type": "code",
   "execution_count": 32,
   "id": "f107e870",
   "metadata": {},
   "outputs": [
    {
     "data": {
      "text/latex": [
       "$\\displaystyle x^{3} \\left(- \\frac{5 y^{3}}{6} + \\frac{y}{2}\\right) + x^{2} \\left(y^{2} - \\frac{1}{2}\\right) - x y + 1$"
      ],
      "text/plain": [
       "x**3*(-5*y**3/6 + y/2) + x**2*(y**2 - 1/2) - x*y + 1"
      ]
     },
     "execution_count": 32,
     "metadata": {},
     "output_type": "execute_result"
    }
   ],
   "source": [
    "sy.series(g,x,n=4).removeO()"
   ]
  },
  {
   "cell_type": "code",
   "execution_count": 36,
   "id": "26e2e522",
   "metadata": {},
   "outputs": [
    {
     "data": {
      "text/latex": [
       "$\\displaystyle - \\frac{5 x^{3} y^{3} \\cos{\\left(x \\right)}}{6} + x^{2} y^{2} \\cos{\\left(x \\right)} - x y \\cos{\\left(x \\right)} + \\cos{\\left(x \\right)}$"
      ],
      "text/plain": [
       "-5*x**3*y**3*cos(x)/6 + x**2*y**2*cos(x) - x*y*cos(x) + cos(x)"
      ]
     },
     "execution_count": 36,
     "metadata": {},
     "output_type": "execute_result"
    }
   ],
   "source": [
    "sy.series(g,y,n=4).removeO()"
   ]
  },
  {
   "cell_type": "code",
   "execution_count": 34,
   "id": "bb38e307",
   "metadata": {},
   "outputs": [
    {
     "data": {
      "text/latex": [
       "$\\displaystyle \\left(x - 1\\right)^{3} \\left(- \\frac{216 y^{3} \\cos{\\left(1 \\right)} \\cos^{3}{\\left(y \\right)}}{216 \\sin^{4}{\\left(y \\right)} + 864 \\sin^{3}{\\left(y \\right)} + 1296 \\sin^{2}{\\left(y \\right)} + 864 \\sin{\\left(y \\right)} + 216} - \\frac{36 y^{3} \\sin{\\left(y \\right)} \\cos{\\left(1 \\right)} \\cos{\\left(y \\right)}}{36 \\sin^{3}{\\left(y \\right)} + 108 \\sin^{2}{\\left(y \\right)} + 108 \\sin{\\left(y \\right)} + 36} + \\frac{y^{3} \\cos{\\left(1 \\right)} \\cos{\\left(y \\right)}}{6 \\sin^{2}{\\left(y \\right)} + 12 \\sin{\\left(y \\right)} + 6} - \\frac{36 y^{2} \\sin{\\left(1 \\right)} \\cos^{2}{\\left(y \\right)}}{36 \\sin^{3}{\\left(y \\right)} + 108 \\sin^{2}{\\left(y \\right)} + 108 \\sin{\\left(y \\right)} + 36} - \\frac{3 y^{2} \\sin{\\left(1 \\right)} \\sin{\\left(y \\right)}}{6 \\sin^{2}{\\left(y \\right)} + 12 \\sin{\\left(y \\right)} + 6} + \\frac{3 y \\cos{\\left(1 \\right)} \\cos{\\left(y \\right)}}{6 \\sin^{2}{\\left(y \\right)} + 12 \\sin{\\left(y \\right)} + 6} + \\frac{\\sin{\\left(1 \\right)}}{6 \\sin{\\left(y \\right)} + 6}\\right) + \\left(x - 1\\right)^{2} \\cdot \\left(\\frac{36 y^{2} \\cos{\\left(1 \\right)} \\cos^{2}{\\left(y \\right)}}{36 \\sin^{3}{\\left(y \\right)} + 108 \\sin^{2}{\\left(y \\right)} + 108 \\sin{\\left(y \\right)} + 36} + \\frac{3 y^{2} \\sin{\\left(y \\right)} \\cos{\\left(1 \\right)}}{6 \\sin^{2}{\\left(y \\right)} + 12 \\sin{\\left(y \\right)} + 6} + \\frac{6 y \\sin{\\left(1 \\right)} \\cos{\\left(y \\right)}}{6 \\sin^{2}{\\left(y \\right)} + 12 \\sin{\\left(y \\right)} + 6} - \\frac{\\cos{\\left(1 \\right)}}{2 \\sin{\\left(y \\right)} + 2}\\right) + \\left(x - 1\\right) \\left(- \\frac{6 y \\cos{\\left(1 \\right)} \\cos{\\left(y \\right)}}{6 \\sin^{2}{\\left(y \\right)} + 12 \\sin{\\left(y \\right)} + 6} - \\frac{\\sin{\\left(1 \\right)}}{\\sin{\\left(y \\right)} + 1}\\right) + \\frac{\\cos{\\left(1 \\right)}}{\\sin{\\left(y \\right)} + 1}$"
      ],
      "text/plain": [
       "(x - 1)**3*(-216*y**3*cos(1)*cos(y)**3/(216*sin(y)**4 + 864*sin(y)**3 + 1296*sin(y)**2 + 864*sin(y) + 216) - 36*y**3*sin(y)*cos(1)*cos(y)/(36*sin(y)**3 + 108*sin(y)**2 + 108*sin(y) + 36) + y**3*cos(1)*cos(y)/(6*sin(y)**2 + 12*sin(y) + 6) - 36*y**2*sin(1)*cos(y)**2/(36*sin(y)**3 + 108*sin(y)**2 + 108*sin(y) + 36) - 3*y**2*sin(1)*sin(y)/(6*sin(y)**2 + 12*sin(y) + 6) + 3*y*cos(1)*cos(y)/(6*sin(y)**2 + 12*sin(y) + 6) + sin(1)/(6*sin(y) + 6)) + (x - 1)**2*(36*y**2*cos(1)*cos(y)**2/(36*sin(y)**3 + 108*sin(y)**2 + 108*sin(y) + 36) + 3*y**2*sin(y)*cos(1)/(6*sin(y)**2 + 12*sin(y) + 6) + 6*y*sin(1)*cos(y)/(6*sin(y)**2 + 12*sin(y) + 6) - cos(1)/(2*sin(y) + 2)) + (x - 1)*(-6*y*cos(1)*cos(y)/(6*sin(y)**2 + 12*sin(y) + 6) - sin(1)/(sin(y) + 1)) + cos(1)/(sin(y) + 1)"
      ]
     },
     "execution_count": 34,
     "metadata": {},
     "output_type": "execute_result"
    }
   ],
   "source": [
    "sy.series(g,x,1,n=4).removeO()"
   ]
  },
  {
   "cell_type": "code",
   "execution_count": null,
   "id": "8d725949",
   "metadata": {},
   "outputs": [],
   "source": []
  }
 ],
 "metadata": {
  "kernelspec": {
   "display_name": "Python 3 (ipykernel)",
   "language": "python",
   "name": "python3"
  },
  "language_info": {
   "codemirror_mode": {
    "name": "ipython",
    "version": 3
   },
   "file_extension": ".py",
   "mimetype": "text/x-python",
   "name": "python",
   "nbconvert_exporter": "python",
   "pygments_lexer": "ipython3",
   "version": "3.10.9"
  }
 },
 "nbformat": 4,
 "nbformat_minor": 5
}
